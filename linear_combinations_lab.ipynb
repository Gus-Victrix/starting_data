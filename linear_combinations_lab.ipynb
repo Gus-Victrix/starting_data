{
 "cells": [
  {
   "cell_type": "markdown",
   "id": "3093f0d3-cb2e-4169-b982-ff3aa73c040d",
   "metadata": {},
   "source": [
    "# Linear Combination\n",
    "\n",
    "In this notebook I aim to learn how to solve combination problems using the python package [NumPy](https://www.numpy.org/) and it's linear algebra subpackage [linalg](https://docs.scipy.org/doc/numpy-1.13.0/reference/routines.linalg.html). This lab is supposed to prepare me for the linear algebra that I'll use in Neural Networks.\n",
    "\n",
    "## Determining a Vector's span\n",
    "\n",
    "A vector's span is the set of all prossible vectors that you can reach with a linear combination of a given pair of vectors.\n",
    "Given vectors $\\vec{v}$ and $\\vec{w}$, a third vector $\\vec{t}$ is within their span if $\\vec{t}$ can be written as a linear combination of the pair $\\vec{v}$ and $\\vec{w}$.\n",
    "\n",
    "This can be written as:\n",
    "\n",
    "$\\hspace{1cm}a\\vec{v} + b\\vec{w} = \\vec{t}$\n",
    "\n",
    "$\\hspace{1.2cm}$*Equation 1*\n",
    "\n",
    "This means, that if I can find a set of values for the scalars $a$ and $b$ that make *Equation 1* true, then $\\vec{t}$ is within the span of $\\vec{v}$ and $\\vec{w}$.\n"
   ]
  },
  {
   "cell_type": "markdown",
   "id": "e54fdc28-ce41-4cf8-9558-878b145ffe4b",
   "metadata": {},
   "source": [
    "Let:\n",
    "\n",
    "$\\hspace{1cm}\\vec{v} = \\begin{bmatrix} 1\\\\ 3\\end{bmatrix}$\n",
    "$\\hspace{0.3cm}\\vec{w} = \\begin{bmatrix} 2\\\\ 5\\end{bmatrix}$ \n",
    "$\\hspace{0.3cm}\\vec{t} = \\begin{bmatrix} 4\\\\ 11\\end{bmatrix}$\n",
    "\n",
    "We can rewrite $a\\vec{v} + b\\vec{w} = \\vec{t}$ as:\n",
    "\n",
    "$\\hspace{1cm}a\\begin{bmatrix} 1\\\\ 3\\end{bmatrix} + b\\begin{bmatrix} 2\\\\ 5\\end{bmatrix} = \\begin{bmatrix} 4\\\\ 11\\end{bmatrix}$\n",
    "\n",
    "Re-writing *Equation 1* as an augmented matrix gives:\n",
    "\n",
    "$\\hspace{1cm}\n",
    "\\left[\n",
    "\\begin{array}{cc|c}\n",
    "1 & 2 & 4\\\\\n",
    "3 & 5 & 11\n",
    "\\end{array}\n",
    "\\right]\n",
    "$"
   ]
  },
  {
   "cell_type": "markdown",
   "id": "97c46711-9240-4930-bb98-e1f0c88ae130",
   "metadata": {},
   "source": [
    "## Determining the span computationally\n",
    "\n",
    "1. Make [NumPy](https://www.numpy.org/) Python package available using the import method\n",
    "2. Create right and left sides of the augmented matrix:\n",
    "   1. Create a [NumPy vector](https://docs.scipy.org/doc/numpy-1.13.0/user/basics.creation.html) $\\vec{t}$ to represent the right side of the augmented matrix.\n",
    "   2. Create a [NumPy matrix](https://docs.scipy.org/doc/numpy-.13.0/user/basics.creation.html) named $vw$ that represents the left side of the augmented matrix ($\\vec{v}$ and $\\vec{w}_\n",
    "   3. Use NumPy's [**linalg.solve** function](https://docs.scipy.org/doc/numpy-1.13.0/reference/generated/numpy.linalg.solve.html#numpy.linalg.solve) to check a vector's span computationally by solving for the scalers that make toe equation true.\n",
    "\n",
    "I shall define the function *__check_vector_span__* for this task.\n"
   ]
  },
  {
   "cell_type": "code",
   "execution_count": 19,
   "id": "883545ec-2267-442d-9d24-21453f9633a9",
   "metadata": {},
   "outputs": [
    {
     "name": "stdout",
     "output_type": "stream",
     "text": [
      "\n",
      "Matrix vw:\n",
      "[[1 2]\n",
      " [3 5]]\n",
      "\n",
      "Vector t:\n",
      "[ 4 11]\n"
     ]
    }
   ],
   "source": [
    "# Makes Python package NumPy available using import method\n",
    "import numpy as np\n",
    "\n",
    "# Creates matrix t (right side of the augmented matrix).\n",
    "t = np.array([4, 11])\n",
    "\n",
    "# Creates matrix vw (left side of the augmented matrix).\n",
    "vw = np.array([[1, 2], [3, 5]])\n",
    "\n",
    "# Prints vw and t\n",
    "print(\"\\nMatrix vw:\", vw, \"\\nVector t:\", t, sep=\"\\n\")\n"
   ]
  },
  {
   "cell_type": "code",
   "execution_count": 20,
   "id": "8e3dbbc2-c5bd-426b-b5e1-9dd9df41a35f",
   "metadata": {},
   "outputs": [],
   "source": [
    "def check_vector_span(set_of_vectors, vector_to_check):\n",
    "    \"\"\"\n",
    "    Checks if vector_to_check is in the span of the vectors in the set of vectors.\n",
    "    Args:\n",
    "        set_of_vectors (np.array): Set of vectors being considered.\n",
    "        vector_to_check (np.array): Vector to be checked.\n",
    "    Returns:\n",
    "        Vector of scalers that solves the linear equation.\n",
    "    \"\"\"\n",
    "    # Shaping the output vector correctly\n",
    "    vector_of_scalars = np.asarray([None]*set_of_vectors.shape[0])\n",
    "\n",
    "    # Finding the scalars that solve the equation (if vector is within the span)\n",
    "    try:\n",
    "        vector_of_scalars = np.linalg.solve(set_of_vectors, vector_to_check)\n",
    "        if vector_of_scalars is not None:\n",
    "            print(\"\\nVector is within span.\\nScalars in s:\", vector_of_scalars)\n",
    "    # If vector is not within the span\n",
    "    except Exception as e:\n",
    "        if str(e) == \"Singular matrix\":\n",
    "            print(\"\\nNo single solution\\nVector is NOT within span\")\n",
    "        else:\n",
    "            print(\"\\nUnexpected Exception Error:\", e)\n",
    "    return vector_of_scalars\n",
    "    "
   ]
  },
  {
   "cell_type": "markdown",
   "id": "fff8ac90-22c6-46d2-a1ff-faa4c9427968",
   "metadata": {},
   "source": [
    "## Checking *check_vector_span* by solving for Scalars\n",
    "\n",
    "*Notice that:*\n",
    "\n",
    " - There are two more sets of vectors that are being checked.\n",
    "The second set of vectors have the following values and augmented matrix:\n",
    "\n",
    "$\\hspace{1cm}\n",
    "\\vec{v2} = \\begin{bmatrix} 1\\\\ 2\\end{bmatrix}\n",
    "\\hspace{0.3cm}\\vec{w2} = \\begin{bmatrix} 2\\\\ 4\\end{bmatrix}\n",
    "\\hspace{0.3cm}\\vec{t2} = \\begin{bmatrix} 6\\\\ 12\\end{bmatrix}\n",
    "\\hspace{1cm}\n",
    "\\left[\\begin{array}{cc|c}\n",
    "1 & 2 & 6\\\\\n",
    "2 & 4 & 12\\\\\n",
    "\\end{array}\\right]$\n",
    "\n",
    "The third set of vectors have the following values and augmented matrix:\n",
    "\n",
    "$\\hspace{1cm}\n",
    "\\vec{v3} = \\begin{bmatrix} 1\\\\ 1\\end{bmatrix}\n",
    "\\hspace{0.3cm}\\vec{w3} = \\begin{bmatrix} 2\\\\ 2\\end{bmatrix}\n",
    "\\hspace{0.3cm}\\vec{t3} = \\begin{bmatrix} 6\\\\ 10\\end{bmatrix}\n",
    "\\hspace{1cm}\n",
    "\\left[\\begin{array}{cc|c}\n",
    "1 & 2 & 6\\\\\n",
    "1 & 2 & 10\n",
    "\\end{array}\\right]$\n",
    "\n",
    "The Python code below uses these inputs to test the function created in the cell  above."
   ]
  },
  {
   "cell_type": "code",
   "execution_count": 21,
   "id": "fdc654e7-8957-4556-a567-60827d19d210",
   "metadata": {},
   "outputs": [
    {
     "name": "stdout",
     "output_type": "stream",
     "text": [
      "\n",
      "Equation 1:\n",
      " Matrix vw: \n",
      "[[1 2]\n",
      " [3 5]]\n",
      "Vector t: \n",
      "[ 4 11]\n",
      "\n",
      "Vector is within span.\n",
      "Scalars in s: [2. 1.]\n",
      "[2. 1.]\n",
      "\n",
      "Equation 2:\n",
      " Matrix vw2:\n",
      "[[1 2]\n",
      " [2 4]]\n",
      "Vector t:\n",
      "[ 6 12]\n",
      "\n",
      "No single solution\n",
      "Vector is NOT within span\n",
      "[None None]\n",
      "\n",
      "Equation 3:\n",
      " Matrix vw3:\n",
      "[[1 1]\n",
      " [2 2]]\n",
      "Vector t:\n",
      "[ 6 10]\n",
      "\n",
      "No single solution\n",
      "Vector is NOT within span\n",
      "[None None]\n"
     ]
    }
   ],
   "source": [
    "# Calling check_vector_span to check vectors in Equation 1\n",
    "print(f\"\\nEquation 1:\\n Matrix vw: \\n{vw}\\nVector t: \\n{t}\", sep='\\n')\n",
    "s = check_vector_span(vw, t)\n",
    "print(s)\n",
    "\n",
    "# Call to check a new set of vectors vw2 and t2\n",
    "vw2 = np.array([[1, 2], [2, 4]])\n",
    "t2 = np.array([6, 12])\n",
    "print(f\"\\nEquation 2:\\n Matrix vw2:\\n{vw2}\\nVector t:\\n{t2}\", sep='\\n')\n",
    "s2 = check_vector_span(vw2, t2)\n",
    "print(s2)\n",
    "\n",
    "# Call to check a new set of vectors vw3 and t3\n",
    "vw3 = np.array([[1, 1], [2, 2]])\n",
    "t3 = np.array([6, 10])\n",
    "print(f\"\\nEquation 3:\\n Matrix vw3:\\n{vw3}\\nVector t:\\n{t3}\", sep='\\n')\n",
    "s3 = check_vector_span(vw3, t3)\n",
    "print(s3)"
   ]
  },
  {
   "cell_type": "code",
   "execution_count": null,
   "id": "c92d5e4b-bb68-4748-8d18-08e9108a23d1",
   "metadata": {},
   "outputs": [],
   "source": []
  }
 ],
 "metadata": {
  "kernelspec": {
   "display_name": "Python 3 (ipykernel)",
   "language": "python",
   "name": "python3"
  },
  "language_info": {
   "codemirror_mode": {
    "name": "ipython",
    "version": 3
   },
   "file_extension": ".py",
   "mimetype": "text/x-python",
   "name": "python",
   "nbconvert_exporter": "python",
   "pygments_lexer": "ipython3",
   "version": "3.10.13"
  }
 },
 "nbformat": 4,
 "nbformat_minor": 5
}
