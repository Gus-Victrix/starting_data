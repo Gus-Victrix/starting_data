{
  "nbformat": 4,
  "nbformat_minor": 0,
  "metadata": {
    "colab": {
      "provenance": [],
      "gpuType": "T4",
      "authorship_tag": "ABX9TyP2WU/Y/QNcpzpynNzOtDjm",
      "include_colab_link": true
    },
    "kernelspec": {
      "name": "python3",
      "display_name": "Python 3"
    },
    "language_info": {
      "name": "python"
    },
    "accelerator": "GPU"
  },
  "cells": [
    {
      "cell_type": "markdown",
      "metadata": {
        "id": "view-in-github",
        "colab_type": "text"
      },
      "source": [
        "<a href=\"https://colab.research.google.com/github/Gus-Victrix/starting_data/blob/main/01_pytorch_workflow.ipynb\" target=\"_parent\"><img src=\"https://colab.research.google.com/assets/colab-badge.svg\" alt=\"Open In Colab\"/></a>"
      ]
    },
    {
      "cell_type": "markdown",
      "source": [
        "# A PyTorch Workflow\n"
      ],
      "metadata": {
        "id": "nfeqeXhlCY1u"
      }
    },
    {
      "cell_type": "markdown",
      "source": [
        "stuff_being_covered = {1: \"data (preparation and loading)\",\n",
        "2: \"build model\",\n",
        "3: \"fitting model (training)\"}\n",
        "\n",
        "stuff_being_covered\n",
        "\n",
        "\n",
        "\n"
      ],
      "metadata": {
        "id": "hG20beRSCnjt"
      }
    },
    {
      "cell_type": "code",
      "execution_count": 266,
      "metadata": {
        "colab": {
          "base_uri": "https://localhost:8080/"
        },
        "id": "LaAIVwmMCFa_",
        "outputId": "7e826b62-995f-44c3-9034-fa34f4a8f971"
      },
      "outputs": [
        {
          "output_type": "execute_result",
          "data": {
            "text/plain": [
              "{1: 'data (prep and loading)',\n",
              " 2: 'build model',\n",
              " 3: 'fitting model (training)',\n",
              " 4: 'making predictions (inference)',\n",
              " 5: 'saving and loading a model',\n",
              " 6: 'putting it all together'}"
            ]
          },
          "metadata": {},
          "execution_count": 266
        }
      ],
      "source": [
        "stuff_being_covered = {\n",
        "    1: \"data (prep and loading)\",\n",
        "    2: \"build model\",\n",
        "    3: \"fitting model (training)\",\n",
        "    4: \"making predictions (inference)\",\n",
        "    5: \"saving and loading a model\",\n",
        "    6: \"putting it all together\"\n",
        "}\n",
        "stuff_being_covered"
      ]
    },
    {
      "cell_type": "code",
      "source": [
        "import torch\n",
        "from torch import nn # Containing all the building blocks of neural networks\n",
        "import matplotlib.pyplot as plt\n",
        "\n",
        "# Check PyTorch version\n",
        "torch.__version__"
      ],
      "metadata": {
        "colab": {
          "base_uri": "https://localhost:8080/",
          "height": 35
        },
        "id": "jU6uiJfWSSld",
        "outputId": "4d9646ba-83a1-4c16-ecc6-cd34dc62496e"
      },
      "execution_count": 267,
      "outputs": [
        {
          "output_type": "execute_result",
          "data": {
            "text/plain": [
              "'2.1.0+cu121'"
            ],
            "application/vnd.google.colaboratory.intrinsic+json": {
              "type": "string"
            }
          },
          "metadata": {},
          "execution_count": 267
        }
      ]
    },
    {
      "cell_type": "markdown",
      "source": [
        "## 1. Data (prep and loading)\n",
        "Data can be almost anything... in machine learning\n",
        "\n",
        "- Excel spreadsheet\n",
        "- Images of any kind\n",
        "- Videos\n",
        "- Audio\n",
        "- DNA\n",
        "- Text\n",
        "\n",
        "Machine learning is a two part game:\n",
        "1. Get data into numerical representation\n",
        "2. Build a model to learn patterns in the numerical representation\n",
        "\n",
        "For starters, we known data using linear regression formula.\n",
        "We'll use a linear regression formula to make a straight line with *known* **parameters**."
      ],
      "metadata": {
        "id": "bNYIh--eSztk"
      }
    },
    {
      "cell_type": "code",
      "source": [
        "# Create known parameters\n",
        "weight = 0.7\n",
        "bias = 0.3\n",
        "\n",
        "\n",
        "# Create\n",
        "start = 0\n",
        "end = 1\n",
        "step = 0.02\n",
        "X = torch.arange(start, end, step).unsqueeze(dim=1)\n",
        "y = weight * X + bias\n",
        "\n",
        "X[: 10], y[: 10], len(X), len(y)"
      ],
      "metadata": {
        "colab": {
          "base_uri": "https://localhost:8080/"
        },
        "id": "TSMr3D9fUAPX",
        "outputId": "8face2d6-83a8-4c2b-aa73-3ed1d1619371"
      },
      "execution_count": 268,
      "outputs": [
        {
          "output_type": "execute_result",
          "data": {
            "text/plain": [
              "(tensor([[0.0000],\n",
              "         [0.0200],\n",
              "         [0.0400],\n",
              "         [0.0600],\n",
              "         [0.0800],\n",
              "         [0.1000],\n",
              "         [0.1200],\n",
              "         [0.1400],\n",
              "         [0.1600],\n",
              "         [0.1800]]),\n",
              " tensor([[0.3000],\n",
              "         [0.3140],\n",
              "         [0.3280],\n",
              "         [0.3420],\n",
              "         [0.3560],\n",
              "         [0.3700],\n",
              "         [0.3840],\n",
              "         [0.3980],\n",
              "         [0.4120],\n",
              "         [0.4260]]),\n",
              " 50,\n",
              " 50)"
            ]
          },
          "metadata": {},
          "execution_count": 268
        }
      ]
    },
    {
      "cell_type": "markdown",
      "source": [
        "We know the rel btn X and y.\n",
        "\n",
        "So we create a model that doesn't know it and then have it learn it."
      ],
      "metadata": {
        "id": "R1Ls0d7-U-47"
      }
    },
    {
      "cell_type": "markdown",
      "source": [
        "## 2 Splitting data into training, validation and test set.\n",
        "\n",
        "- training set: Used to teach the model\n",
        "- validation set: Tunes the model (not always)\n",
        "- testing set: Tests the models ability to generalize what it's learnt."
      ],
      "metadata": {
        "id": "s3lBfpT_VTCP"
      }
    },
    {
      "cell_type": "code",
      "source": [
        "# Create a training and test set with our data\n",
        "train_split = int(0.8 * len(X))\n",
        "X_train, y_train = X[:train_split], y[:train_split]\n",
        "X_test, y_test = X[train_split:], y[train_split:]\n",
        "\n",
        "len(X_test), len(X_train), len(y_test), len(y_train)"
      ],
      "metadata": {
        "colab": {
          "base_uri": "https://localhost:8080/"
        },
        "id": "fIsdKEiaU-AN",
        "outputId": "1ed72adb-8b14-4c11-b4bb-8e70d994a79e"
      },
      "execution_count": 269,
      "outputs": [
        {
          "output_type": "execute_result",
          "data": {
            "text/plain": [
              "(10, 40, 10, 40)"
            ]
          },
          "metadata": {},
          "execution_count": 269
        }
      ]
    },
    {
      "cell_type": "markdown",
      "source": [
        "## Visualizing the data"
      ],
      "metadata": {
        "id": "QeOIp4-mWy2w"
      }
    },
    {
      "cell_type": "code",
      "source": [
        "def plot_predictions(train_data=X_train,\n",
        "                     train_labels=y_train,\n",
        "                     test_data=X_test,\n",
        "                     test_labels=y_test,\n",
        "                     predictions=None):\n",
        "    \"\"\"\n",
        "    Plots training data, test data and compares predictions.\n",
        "    \"\"\"\n",
        "    plt.figure(figsize=(10, 7))\n",
        "\n",
        "    # Plot training data in blue\n",
        "    plt.scatter(train_data, train_labels, c='b', s=4, label=\"Training data\")\n",
        "\n",
        "    # Plot test data in green\n",
        "    plt.scatter(test_data, test_labels, c=\"g\", s=4, label=\"Testing data\")\n",
        "\n",
        "    # Are there predictions?\n",
        "    if predictions is not None:\n",
        "        # Plot the predictions\n",
        "        plt.scatter(test_data, predictions, c=\"r\", s=4, label=\"predictions\")\n",
        "\n",
        "    # Display the plot\n",
        "    plt.legend(prop={\"size\": 14})"
      ],
      "metadata": {
        "id": "WsRCj8ucWxqL"
      },
      "execution_count": 270,
      "outputs": []
    },
    {
      "cell_type": "code",
      "source": [
        "plot_predictions()"
      ],
      "metadata": {
        "colab": {
          "base_uri": "https://localhost:8080/",
          "height": 460
        },
        "id": "8vjHwN25Y3l6",
        "outputId": "12f850bb-921f-4682-a3a1-3336e0b6be9f"
      },
      "execution_count": 271,
      "outputs": [
        {
          "output_type": "display_data",
          "data": {
            "text/plain": [
              "<Figure size 1000x700 with 1 Axes>"
            ],
            "image/png": "[encoded data removed]"
          },
          "metadata": {}
        }
      ]
    },
    {
      "cell_type": "markdown",
      "source": [
        "## 2. Build Model\n",
        "My first PyTorch model!\n",
        "\n",
        "What this model does:\n",
        "- Start with random values (weight & bias)\n",
        "- Look at training data and adjust the random values to better represent (or get closer to) the ideal values (the weight and bias values used to create the data)\n",
        "\n",
        "How does it do this?\n",
        "\n",
        "Through:\n",
        "1. Gradient descent\n",
        "2. Backpropagation"
      ],
      "metadata": {
        "id": "nfjXJWJCZcyE"
      }
    },
    {
      "cell_type": "code",
      "source": [
        "# Create linear regression model class\n",
        "class LinearRegressionModel(nn.Module): # Almost everything in PyTorch inherits from nn.Module\n",
        "    def __init__(self):\n",
        "        super().__init__()\n",
        "        self.weights = nn.Parameter(torch.randn(1, # <- start with a random value and adjust it to model wight\n",
        "                                                requires_grad=True, # <- can this parameter be updated via gradient descent?\n",
        "                                                dtype=torch.float)) # <- PyTorch loves float32\n",
        "        self.bias = nn.Parameter(torch.randn(1, # <- start with a random value\n",
        "                                             requires_grad=True, # <- make the value updateable by gradient descent\n",
        "                                             dtype=torch.float)) # <- the datatype of the parameter\n",
        "\n",
        "    # Forward method to define the computation in the model\n",
        "    def forward(self, x: torch.Tensor) -> torch.Tensor: # <- \"x\" is the input data\n",
        "        return self.weights * x + self.bias # this is the linear regression formula"
      ],
      "metadata": {
        "id": "7evpePklZiz5"
      },
      "execution_count": 272,
      "outputs": []
    },
    {
      "cell_type": "markdown",
      "source": [
        "### PyTorch model building essentials\n",
        "\n",
        "- `torch.nn` - contains all building blocks ofor neural networks (computational graphs)\n",
        "- `torch.nn.Parameter` - what parameters should our model try and learn, often a PyTorch layer from `torch.nn` will set these for us\n",
        "- `torch.nn.Module` - the base class for all neural network modules, if subclassed, `forward()` should be overwritten.\n",
        "- `torch.optim` - this is where the optimizers in PyTorch live, they will help with gradient descent.\n",
        "- `def forward():` - All `nn.Module` subclasses require this method.\n",
        "\n",
        "\n"
      ],
      "metadata": {
        "id": "HU2MAxY3exUj"
      }
    },
    {
      "cell_type": "markdown",
      "source": [
        "### Checking the contents of our PyTorch model\n",
        "\n",
        "This is shown by using `.parameters()`"
      ],
      "metadata": {
        "id": "LFxHwCTNghtZ"
      }
    },
    {
      "cell_type": "code",
      "source": [
        "# Create a random seed\n",
        "torch.manual_seed(42)\n",
        "\n",
        "# Create an instance of the model\n",
        "model_0 = LinearRegressionModel()\n",
        "\n",
        "# check out the parameters\n",
        "list(model_0.parameters())"
      ],
      "metadata": {
        "colab": {
          "base_uri": "https://localhost:8080/"
        },
        "id": "gVaCkYXgdLvg",
        "outputId": "33912093-fb13-4b6f-ac6a-f84a65043bd9"
      },
      "execution_count": 273,
      "outputs": [
        {
          "output_type": "execute_result",
          "data": {
            "text/plain": [
              "[Parameter containing:\n",
              " tensor([0.3367], requires_grad=True),\n",
              " Parameter containing:\n",
              " tensor([0.1288], requires_grad=True)]"
            ]
          },
          "metadata": {},
          "execution_count": 273
        }
      ]
    },
    {
      "cell_type": "code",
      "source": [
        "# List named parameters\n",
        "model_0.state_dict()"
      ],
      "metadata": {
        "colab": {
          "base_uri": "https://localhost:8080/"
        },
        "id": "vAzN-ViohzB3",
        "outputId": "22d044e2-ad7b-41a3-a81c-60108fce989f"
      },
      "execution_count": 274,
      "outputs": [
        {
          "output_type": "execute_result",
          "data": {
            "text/plain": [
              "OrderedDict([('weights', tensor([0.3367])), ('bias', tensor([0.1288]))])"
            ]
          },
          "metadata": {},
          "execution_count": 274
        }
      ]
    },
    {
      "cell_type": "code",
      "source": [
        "# The desired values are:\n",
        "weight, bias"
      ],
      "metadata": {
        "colab": {
          "base_uri": "https://localhost:8080/"
        },
        "id": "dis5BIpFiemE",
        "outputId": "6148e731-d7ca-47b6-9bff-4ccb2550a8ea"
      },
      "execution_count": 275,
      "outputs": [
        {
          "output_type": "execute_result",
          "data": {
            "text/plain": [
              "(0.7, 0.3)"
            ]
          },
          "metadata": {},
          "execution_count": 275
        }
      ]
    },
    {
      "cell_type": "markdown",
      "source": [
        "### Making prediction using `torch.inference_model()`\n",
        "\n",
        "To check our model's predictive power, we test it by checking how well it predicts `y_test` based on `X_test`\n",
        "\n",
        "When data is passed into the model, it passes through the `forward()` model."
      ],
      "metadata": {
        "id": "Xw2-JLqjiWck"
      }
    },
    {
      "cell_type": "code",
      "source": [
        "# Make predictions with model\n",
        "with torch.inference_mode():\n",
        "    y_preds = model_0(X_test)\n",
        "\n",
        "plot_predictions(predictions=y_preds)"
      ],
      "metadata": {
        "colab": {
          "base_uri": "https://localhost:8080/",
          "height": 460
        },
        "id": "ZqdA0YUijLyN",
        "outputId": "84d52806-20bc-476e-8e48-f70c84c83906"
      },
      "execution_count": 276,
      "outputs": [
        {
          "output_type": "display_data",
          "data": {
            "text/plain": [
              "<Figure size 1000x700 with 1 Axes>"
            ],
            "image/png": "[encoded data removed]"
          },
          "metadata": {}
        }
      ]
    },
    {
      "cell_type": "markdown",
      "source": [
        "### 3. Training the model\n",
        "\n",
        "The whole idea is to move from a random representation of the data to a more accurate representation of the data.\n",
        "\n",
        "We measure the distance from accurate representation via a loss function.\n",
        "\n",
        "- **Note**: loss functions are also criterion or cost function.\n",
        "\n",
        "Things needed for training:\n",
        "- **Loss Function:** Function that measures how wrong your model's predictions are compared to ideal representation.\n",
        "- **Optimizer:** Takes into account the loss of a model and adjusts the model's parameters (eg weight and bias) to improve the loss function.\n",
        "\n",
        "In PyTorch, we need:\n",
        "- A training loop\n",
        "- A testing loop"
      ],
      "metadata": {
        "id": "nxjXAvMcl_tJ"
      }
    },
    {
      "cell_type": "code",
      "source": [
        "model_0.state_dict()"
      ],
      "metadata": {
        "colab": {
          "base_uri": "https://localhost:8080/"
        },
        "id": "BpeM_R2NlXtQ",
        "outputId": "a7a0d124-3d6f-4d15-a4ac-6841d64659b8"
      },
      "execution_count": 277,
      "outputs": [
        {
          "output_type": "execute_result",
          "data": {
            "text/plain": [
              "OrderedDict([('weights', tensor([0.3367])), ('bias', tensor([0.1288]))])"
            ]
          },
          "metadata": {},
          "execution_count": 277
        }
      ]
    },
    {
      "cell_type": "markdown",
      "source": [],
      "metadata": {
        "id": "oS8llzgdn9ny"
      }
    },
    {
      "cell_type": "code",
      "source": [
        "# Creating the loss function (Mean Absolute Error for this model)\n",
        "# Can be done using `torch.mean(torch.abs(y_pred-y_test))`\n",
        "# Better done using PyTorch's internally implemented `torch.nn.L1Loss()`\n",
        "\n",
        "loss_fn = nn.L1Loss()\n",
        "\n",
        "# Setup an optimizer (stochastic gradient descent)\n",
        "optimizer = torch.optim.ASGD(params=model_0.parameters(),\n",
        "                        lr=0.0001) # Learning rate = how much change done per size of error\n",
        "\n"
      ],
      "metadata": {
        "id": "4EMFmGzDngNh"
      },
      "execution_count": 278,
      "outputs": []
    },
    {
      "cell_type": "markdown",
      "source": [
        "**Q:** Which loss function is bette?\n",
        "**A:** This is problem specific, but bad ones are learnt per use-case with experience.\n",
        "\n",
        "For regression problem, `nn.L1Loss()` loss function and `torch.optim.SGD()` optimizer will suffice.\n",
        "\n",
        "For binary classification (eg cat vs dog), `nn.BCELoss()` (binary cross entropy loss) is preferred."
      ],
      "metadata": {
        "id": "Wl8p9GqqqqLu"
      }
    },
    {
      "cell_type": "markdown",
      "source": [
        "## Building a training loop (and testing loop) in PyTorch\n",
        "\n",
        "What is needed when training:\n",
        "1. Loop through the data\n",
        "2. Forward pass (involves moving data through the `forward()` function) -- Also called forward propagation.\n",
        "3. Calculate the loss (compare forward pass predictions to ground truth labels)\n",
        "4. Optimizer zero grad\n",
        "5. Loss backward - Move backwards through the network to calculate the gradients of each of the parameters of our model with respect to the loss (**backpropagation**).\n",
        "6. Optimizer step - use the optimizer to adjust the model's parameters to try and improve the loss.\n",
        "\n"
      ],
      "metadata": {
        "id": "yqGvHX4xryj7"
      }
    },
    {
      "cell_type": "code",
      "source": [
        "# An epoch is one loop through the data\n",
        "epochs = 17500\n",
        "# Track different values\n",
        "epoch_count = []\n",
        "loss_values = []\n",
        "test_loss_values = []\n",
        "\n",
        "# 1. Loop through the data\n",
        "for epoch in range(epochs):\n",
        "    # set the model to training mode\n",
        "    model_0.train()  # sets all parameters that require gradients to require gradients\n",
        "    #1. Forward pass\n",
        "    y_pred = model_0(X_train)\n",
        "    #2. Calculate the loss\n",
        "    loss = loss_fn(y_pred, y_train)\n",
        "\n",
        "    #3. Optimizer zero grad\n",
        "    optimizer.zero_grad()\n",
        "    #4. Perform backpropagation on the loss with respect to the parameters of the model\n",
        "    loss.backward()\n",
        "    #5. Step the optimizer (Perform gradient descent)\n",
        "    optimizer.step()  # by default how the optimizer changes will accumulate through the loop so it has to be zeroed in step 3\n",
        "\n",
        "    # Testing loop\n",
        "    model_0.eval()  # turns off stuff not needed for testing\n",
        "    with torch.inference_mode(): # turns off gradient tracking\n",
        "        # 1. Do the forward pass\n",
        "        test_pred = model_0(X_test)\n",
        "        #2. Calculate the loss\n",
        "        test_loss = loss_fn(test_pred, y_test)\n",
        "    # print out what's hapening\n",
        "    if epoch % 5 == 0:\n",
        "        epoch_count.append(epoch)\n",
        "        loss_values.append(loss)\n",
        "        test_loss_values.append(test_loss)\n"
      ],
      "metadata": {
        "id": "U6Fn7KzErxBE"
      },
      "execution_count": 279,
      "outputs": []
    },
    {
      "cell_type": "code",
      "source": [
        "import numpy as np\n",
        "# Plot the trends\n",
        "plt.plot(epoch_count, np.array(torch.tensor(loss_values).numpy()), label='Train Loss')\n",
        "plt.plot(epoch_count, test_loss_values, label='Test Loss')\n",
        "plt.title('Training and test loss curves')\n",
        "plt.ylabel('Loss')\n",
        "plt.xlabel('Epochs')\n",
        "plt.legend()"
      ],
      "metadata": {
        "colab": {
          "base_uri": "https://localhost:8080/",
          "height": 489
        },
        "id": "fQ2udt-jSuX5",
        "outputId": "485f4b7a-53b0-4728-9530-7a97b8705c15"
      },
      "execution_count": 280,
      "outputs": [
        {
          "output_type": "execute_result",
          "data": {
            "text/plain": [
              "<matplotlib.legend.Legend at 0x7f4874fd7340>"
            ]
          },
          "metadata": {},
          "execution_count": 280
        },
        {
          "output_type": "display_data",
          "data": {
            "text/plain": [
              "<Figure size 640x480 with 1 Axes>"
            ],
            "image/png": "[encoded data removed]"
          },
          "metadata": {}
        }
      ]
    },
    {
      "cell_type": "code",
      "source": [
        "model_0.eval()\n",
        "plot_predictions(predictions=model_0(X_test).detach().numpy())"
      ],
      "metadata": {
        "colab": {
          "base_uri": "https://localhost:8080/",
          "height": 460
        },
        "id": "QTXFmUXryLfE",
        "outputId": "255aca40-aa69-4a93-fd87-863c790d8578"
      },
      "execution_count": 281,
      "outputs": [
        {
          "output_type": "display_data",
          "data": {
            "text/plain": [
              "<Figure size 1000x700 with 1 Axes>"
            ],
            "image/png": "[encoded data removed]"
          },
          "metadata": {}
        }
      ]
    },
    {
      "cell_type": "code",
      "source": [
        "# Comparing the current weight and bias vs best\n",
        "print(f\"Best is {(weight, bias)}\")\n",
        "print(f\"Current is {model_0.state_dict()}\")"
      ],
      "metadata": {
        "colab": {
          "base_uri": "https://localhost:8080/"
        },
        "id": "aJk0el_RzUaD",
        "outputId": "855ebe26-bfa8-4220-c62e-26fa62922c02"
      },
      "execution_count": 282,
      "outputs": [
        {
          "output_type": "stream",
          "name": "stdout",
          "text": [
            "Best is (0.7, 0.3)\n",
            "Current is OrderedDict([('weights', tensor([0.6999])), ('bias', tensor([0.3000]))])\n"
          ]
        }
      ]
    },
    {
      "cell_type": "markdown",
      "source": [
        "## Saving a model in PyTorch\n",
        "\n",
        "There are three main methods for loading and saving\n",
        "\n",
        "1. `torch.save()` - allows you to save a PyTorch object in Python pickle format\n",
        "2. `torch.load()` - allows you to load a saved PyTorch object.\n",
        "3. `torch.nn.Module.load_state_dict()` - this allows loading of a model's saved state dictionary."
      ],
      "metadata": {
        "id": "JohJFni9Y5vT"
      }
    },
    {
      "cell_type": "code",
      "source": [
        "model_0.state_dict()"
      ],
      "metadata": {
        "colab": {
          "base_uri": "https://localhost:8080/"
        },
        "id": "cOHyLFtdY-35",
        "outputId": "65aab487-6d44-4b97-feb5-6232ca2c2cbe"
      },
      "execution_count": 283,
      "outputs": [
        {
          "output_type": "execute_result",
          "data": {
            "text/plain": [
              "OrderedDict([('weights', tensor([0.6999])), ('bias', tensor([0.3000]))])"
            ]
          },
          "metadata": {},
          "execution_count": 283
        }
      ]
    },
    {
      "cell_type": "code",
      "source": [
        "# Saving the model\n",
        "from pathlib import Path\n",
        "\n",
        "# 1. Create models directory\n",
        "MODEL_PATH = Path(\"models\")\n",
        "MODEL_PATH.mkdir(parents=True, exist_ok=True)\n",
        "\n",
        "# 2. Create model save path\n",
        "MODEL_NAME = \"01_pytorch_workflow_model_0.pth\"\n",
        "MODEL_SAVE_PATH = MODEL_PATH / MODEL_NAME\n",
        "\n",
        "#3. Save the model state dict\n",
        "print(f'saving model to : {MODEL_SAVE_PATH}')\n",
        "torch.save(obj=model_0.state_dict(), f=MODEL_SAVE_PATH)"
      ],
      "metadata": {
        "colab": {
          "base_uri": "https://localhost:8080/"
        },
        "id": "_xQtIh4iaKcK",
        "outputId": "aff99c1b-7c66-4da8-eea0-cd5b8fe540af"
      },
      "execution_count": 284,
      "outputs": [
        {
          "output_type": "stream",
          "name": "stdout",
          "text": [
            "saving model to : models/01_pytorch_workflow_model_0.pth\n"
          ]
        }
      ]
    },
    {
      "cell_type": "markdown",
      "source": [
        "## Loading a PyTorch model\n",
        "Since we saved our model's `state_dict()` rather than the entire model,"
      ],
      "metadata": {
        "id": "03w44GqXbq0G"
      }
    },
    {
      "cell_type": "code",
      "source": [
        "# To load in a saved state_dict we have to instantiate a new instance of our model class\n",
        "loaded_model_0 = LinearRegressionModel()\n",
        "\n",
        "# Load the saved state_dict of model_0 (this will update the new instance with updated parameters)\n",
        "loaded_model_0.load_state_dict(torch.load(f=MODEL_SAVE_PATH))"
      ],
      "metadata": {
        "colab": {
          "base_uri": "https://localhost:8080/"
        },
        "id": "q9SGAjItbjTV",
        "outputId": "63cce297-e3a0-4e70-b5b7-07851d70eea6"
      },
      "execution_count": 285,
      "outputs": [
        {
          "output_type": "execute_result",
          "data": {
            "text/plain": [
              "<All keys matched successfully>"
            ]
          },
          "metadata": {},
          "execution_count": 285
        }
      ]
    },
    {
      "cell_type": "code",
      "source": [
        "model_0.state_dict()"
      ],
      "metadata": {
        "colab": {
          "base_uri": "https://localhost:8080/"
        },
        "id": "H_54OpJwlFo2",
        "outputId": "8763676e-b7a3-455b-a4fc-57339db3f1f6"
      },
      "execution_count": 286,
      "outputs": [
        {
          "output_type": "execute_result",
          "data": {
            "text/plain": [
              "OrderedDict([('weights', tensor([0.6999])), ('bias', tensor([0.3000]))])"
            ]
          },
          "metadata": {},
          "execution_count": 286
        }
      ]
    },
    {
      "cell_type": "code",
      "source": [
        "loaded_model_0.state_dict()"
      ],
      "metadata": {
        "colab": {
          "base_uri": "https://localhost:8080/"
        },
        "id": "o8hQ9ZI5k4CY",
        "outputId": "ac75aed3-505c-43ce-dc12-cfdb9a55f084"
      },
      "execution_count": 287,
      "outputs": [
        {
          "output_type": "execute_result",
          "data": {
            "text/plain": [
              "OrderedDict([('weights', tensor([0.6999])), ('bias', tensor([0.3000]))])"
            ]
          },
          "metadata": {},
          "execution_count": 287
        }
      ]
    },
    {
      "cell_type": "code",
      "source": [
        "# Make some predictions wit hour loaded model\n",
        "loaded_model_0.eval()\n",
        "with torch.inference_mode():\n",
        "    loaded_model_preds = loaded_model_0(X_test)\n",
        "\n",
        "loaded_model_preds"
      ],
      "metadata": {
        "colab": {
          "base_uri": "https://localhost:8080/"
        },
        "id": "F9l4h9oJlKGn",
        "outputId": "e84d417c-967d-4cae-fabd-a2863421a740"
      },
      "execution_count": 288,
      "outputs": [
        {
          "output_type": "execute_result",
          "data": {
            "text/plain": [
              "tensor([[0.8599],\n",
              "        [0.8739],\n",
              "        [0.8879],\n",
              "        [0.9019],\n",
              "        [0.9159],\n",
              "        [0.9299],\n",
              "        [0.9439],\n",
              "        [0.9579],\n",
              "        [0.9719],\n",
              "        [0.9859]])"
            ]
          },
          "metadata": {},
          "execution_count": 288
        }
      ]
    },
    {
      "cell_type": "code",
      "source": [
        "# Compare with old model\n",
        "model_0.eval()\n",
        "with torch.inference_mode():\n",
        "    y_preds = model_0(X_test)\n",
        "\n",
        "y_preds == loaded_model_preds"
      ],
      "metadata": {
        "colab": {
          "base_uri": "https://localhost:8080/"
        },
        "id": "QP-0wWfslnNj",
        "outputId": "158d5ae7-70df-47c5-d01c-b6b462ba0559"
      },
      "execution_count": 289,
      "outputs": [
        {
          "output_type": "execute_result",
          "data": {
            "text/plain": [
              "tensor([[True],\n",
              "        [True],\n",
              "        [True],\n",
              "        [True],\n",
              "        [True],\n",
              "        [True],\n",
              "        [True],\n",
              "        [True],\n",
              "        [True],\n",
              "        [True]])"
            ]
          },
          "metadata": {},
          "execution_count": 289
        }
      ]
    },
    {
      "cell_type": "markdown",
      "source": [
        "## 6. Putting it all together\n",
        "Let's go back through the steps above and see it all in one place"
      ],
      "metadata": {
        "id": "mkp00S1nmEyt"
      }
    },
    {
      "cell_type": "code",
      "source": [
        "import torch\n",
        "from torch import nn\n",
        "import matplotlib.pyplot as plt\n",
        "\n",
        "# Check PyTorch version\n",
        "torch.__version__"
      ],
      "metadata": {
        "colab": {
          "base_uri": "https://localhost:8080/",
          "height": 35
        },
        "id": "b4Kz9X0cmNQB",
        "outputId": "52a99d72-82e7-455a-b935-32c6d3b556c0"
      },
      "execution_count": 290,
      "outputs": [
        {
          "output_type": "execute_result",
          "data": {
            "text/plain": [
              "'2.1.0+cu121'"
            ],
            "application/vnd.google.colaboratory.intrinsic+json": {
              "type": "string"
            }
          },
          "metadata": {},
          "execution_count": 290
        }
      ]
    },
    {
      "cell_type": "markdown",
      "source": [
        "Create device-agnostic code.\n",
        "\n",
        "Code will use gpu if it's available."
      ],
      "metadata": {
        "id": "QE2OJLzwmeG6"
      }
    },
    {
      "cell_type": "code",
      "source": [
        "# Setup device agnostic code\n",
        "device = \"cuda\" if torch.cuda.is_available() else 'cpu'\n",
        "print(f'Using device: {device}')"
      ],
      "metadata": {
        "colab": {
          "base_uri": "https://localhost:8080/"
        },
        "id": "ePRHpGg2mbH-",
        "outputId": "3e13677e-c99f-4485-837c-b92c930d139a"
      },
      "execution_count": 291,
      "outputs": [
        {
          "output_type": "stream",
          "name": "stdout",
          "text": [
            "Using device: cuda\n"
          ]
        }
      ]
    },
    {
      "cell_type": "code",
      "source": [
        "!nvidia-smi"
      ],
      "metadata": {
        "colab": {
          "base_uri": "https://localhost:8080/"
        },
        "id": "X1mRTmBDnE9G",
        "outputId": "f60552bc-11ce-4807-c29c-206e39e35571"
      },
      "execution_count": 292,
      "outputs": [
        {
          "output_type": "stream",
          "name": "stdout",
          "text": [
            "Fri Mar  1 17:51:13 2024       \n",
            "+---------------------------------------------------------------------------------------+\n",
            "| NVIDIA-SMI 535.104.05             Driver Version: 535.104.05   CUDA Version: 12.2     |\n",
            "|-----------------------------------------+----------------------+----------------------+\n",
            "| GPU  Name                 Persistence-M | Bus-Id        Disp.A | Volatile Uncorr. ECC |\n",
            "| Fan  Temp   Perf          Pwr:Usage/Cap |         Memory-Usage | GPU-Util  Compute M. |\n",
            "|                                         |                      |               MIG M. |\n",
            "|=========================================+======================+======================|\n",
            "|   0  Tesla T4                       Off | 00000000:00:04.0 Off |                    0 |\n",
            "| N/A   71C    P0              30W /  70W |    175MiB / 15360MiB |      0%      Default |\n",
            "|                                         |                      |                  N/A |\n",
            "+-----------------------------------------+----------------------+----------------------+\n",
            "                                                                                         \n",
            "+---------------------------------------------------------------------------------------+\n",
            "| Processes:                                                                            |\n",
            "|  GPU   GI   CI        PID   Type   Process name                            GPU Memory |\n",
            "|        ID   ID                                                             Usage      |\n",
            "|=======================================================================================|\n",
            "+---------------------------------------------------------------------------------------+\n"
          ]
        }
      ]
    },
    {
      "cell_type": "markdown",
      "source": [
        "## 6.1. Data"
      ],
      "metadata": {
        "id": "SLZN9nuInQPg"
      }
    },
    {
      "cell_type": "code",
      "source": [
        "# Create data using linear regression formula\n",
        "weight = 0.7\n",
        "bias = 0.3\n",
        "\n",
        "# Create range values\n",
        "start = 0\n",
        "end = 1\n",
        "step = 0.02\n",
        "\n",
        "# Create X and y (features and labels)\n",
        "X = torch.arange(start, end, step).unsqueeze(dim=1) # without unsqueeze, errors will pop up\n",
        "y = weight * X + bias\n",
        "X[:10], y[:10]"
      ],
      "metadata": {
        "colab": {
          "base_uri": "https://localhost:8080/"
        },
        "id": "H6AE7l6TnLpH",
        "outputId": "1c9bfcb8-d6c4-4ffb-ae1d-d7a6b6282eda"
      },
      "execution_count": 293,
      "outputs": [
        {
          "output_type": "execute_result",
          "data": {
            "text/plain": [
              "(tensor([[0.0000],\n",
              "         [0.0200],\n",
              "         [0.0400],\n",
              "         [0.0600],\n",
              "         [0.0800],\n",
              "         [0.1000],\n",
              "         [0.1200],\n",
              "         [0.1400],\n",
              "         [0.1600],\n",
              "         [0.1800]]),\n",
              " tensor([[0.3000],\n",
              "         [0.3140],\n",
              "         [0.3280],\n",
              "         [0.3420],\n",
              "         [0.3560],\n",
              "         [0.3700],\n",
              "         [0.3840],\n",
              "         [0.3980],\n",
              "         [0.4120],\n",
              "         [0.4260]]))"
            ]
          },
          "metadata": {},
          "execution_count": 293
        }
      ]
    },
    {
      "cell_type": "code",
      "source": [
        "# Split data\n",
        "train_split = int(0.8 * len(X))\n",
        "X_train, y_train = X[:train_split], y[:train_split]\n",
        "X_test, y_test = X[train_split:], y[train_split:]\n",
        "len(X_train), len(y_train), len(X_test), len(y_test)"
      ],
      "metadata": {
        "colab": {
          "base_uri": "https://localhost:8080/"
        },
        "id": "EupzwR2woZYH",
        "outputId": "149dbbfe-2f05-43a5-cc68-ced7a3233bb4"
      },
      "execution_count": 294,
      "outputs": [
        {
          "output_type": "execute_result",
          "data": {
            "text/plain": [
              "(40, 40, 10, 10)"
            ]
          },
          "metadata": {},
          "execution_count": 294
        }
      ]
    },
    {
      "cell_type": "code",
      "source": [
        "# Plot the data\n",
        "# Note: Must load cell with the plotting function definition\n",
        "plot_predictions(X_train, y_train, X_test, y_test)"
      ],
      "metadata": {
        "colab": {
          "base_uri": "https://localhost:8080/",
          "height": 460
        },
        "id": "0WwcZO-Ko7vi",
        "outputId": "8fa4e0f7-6dfd-4114-8e2b-e6a583b63d7a"
      },
      "execution_count": 295,
      "outputs": [
        {
          "output_type": "display_data",
          "data": {
            "text/plain": [
              "<Figure size 1000x700 with 1 Axes>"
            ],
            "image/png": "[encoded data removed]"
          },
          "metadata": {}
        }
      ]
    },
    {
      "cell_type": "code",
      "source": [
        "# Create model\n",
        "class LinearRegressionModelV2(nn.Module):\n",
        "    def __init__(self):\n",
        "        super().__init__()\n",
        "        self.linear_layer = nn.Linear(in_features=1, out_features=1)\n",
        "\n",
        "    def forward(self, X: torch.Tensor) -> torch.Tensor:\n",
        "        return self.linear_layer(X)"
      ],
      "metadata": {
        "id": "ehjPO2M3qkaX"
      },
      "execution_count": 296,
      "outputs": []
    },
    {
      "cell_type": "code",
      "source": [
        "# manually set seed for reproducibility\n",
        "torch.manual_seed(42)\n",
        "# instantiate model\n",
        "model_1 = LinearRegressionModelV2()\n",
        "\n",
        "# Send model to GPU if available\n",
        "model_1.to(device)\n",
        "next(model_1.parameters()).device"
      ],
      "metadata": {
        "colab": {
          "base_uri": "https://localhost:8080/"
        },
        "id": "jyFSXNzDsIVb",
        "outputId": "62e70444-a89f-454c-afde-152676f5ff5a"
      },
      "execution_count": 297,
      "outputs": [
        {
          "output_type": "execute_result",
          "data": {
            "text/plain": [
              "device(type='cuda', index=0)"
            ]
          },
          "metadata": {},
          "execution_count": 297
        }
      ]
    },
    {
      "cell_type": "code",
      "source": [
        "# Create loss function\n",
        "loss_fn = nn.L1Loss()\n",
        "# Create optimizer\n",
        "optimizer = torch.optim.ASGD(params=model_1.parameters(), lr=0.001)"
      ],
      "metadata": {
        "id": "RTBaBaiFsV5C"
      },
      "execution_count": 298,
      "outputs": []
    },
    {
      "cell_type": "code",
      "source": [
        "# Set no. of epochs\n",
        "epochs = 1200\n",
        "# Set track-worthy metrics\n",
        "epoch_count = []\n",
        "train_loss = []\n",
        "test_loss_values = []\n",
        "\n",
        "# move data to device\n",
        "X_train = X_train.to(device)\n",
        "y_train = y_train.to(device)\n",
        "X_test = X_test.to(device)\n",
        "y_test = y_test.to(device)\n",
        "\n",
        "# Create training loop\n",
        "for epoch in range(epochs):\n",
        "    # Enter training mode\n",
        "    model_1.train()\n",
        "    # Perform forward pass\n",
        "    y_pred = model_1(X_train)\n",
        "    # Calculate the loss\n",
        "    loss = loss_fn(y_pred, y_train)\n",
        "    # Restore gradients to zero\n",
        "    optimizer.zero_grad()\n",
        "    # Backward pass\n",
        "    loss.backward()\n",
        "    # Move the optimizer\n",
        "    optimizer.step()\n",
        "\n",
        "    if epoch % 5 == 0:\n",
        "        epoch_count.append(epoch)\n",
        "        train_loss.append(loss)\n",
        "\n",
        "        # Test the model\n",
        "        model_1.eval()\n",
        "        with torch.inference_mode():\n",
        "            # Forward pass\n",
        "            test_pred = model_1(X_test)\n",
        "            # Evaluate loss\n",
        "            test_loss = loss_fn(test_pred, y_test)\n",
        "            test_loss_values.append(test_loss)"
      ],
      "metadata": {
        "id": "P0NP2WMhtkX6"
      },
      "execution_count": 299,
      "outputs": []
    },
    {
      "cell_type": "code",
      "source": [
        "model_1.state_dict()"
      ],
      "metadata": {
        "colab": {
          "base_uri": "https://localhost:8080/"
        },
        "id": "vDoVXIxL7nV_",
        "outputId": "ab0f2176-c15c-4da8-a71d-cb57a3e1570f"
      },
      "execution_count": 300,
      "outputs": [
        {
          "output_type": "execute_result",
          "data": {
            "text/plain": [
              "OrderedDict([('linear_layer.weight', tensor([[0.6995]], device='cuda:0')),\n",
              "             ('linear_layer.bias', tensor([0.3005], device='cuda:0'))])"
            ]
          },
          "metadata": {},
          "execution_count": 300
        }
      ]
    },
    {
      "cell_type": "code",
      "source": [
        "# Plot progress\n",
        "plt.plot(epoch_count, np.array(torch.tensor(train_loss).numpy()), label='Train Loss')\n",
        "plt.plot(epoch_count, np.array(torch.tensor(test_loss_values).numpy()), label='Test Loss')\n",
        "plt.title('Plot of Test and Train Loss')\n",
        "plt.ylabel('Loss')\n",
        "plt.xlabel('Epochs')\n",
        "plt.show()"
      ],
      "metadata": {
        "colab": {
          "base_uri": "https://localhost:8080/",
          "height": 472
        },
        "id": "wOv4G1bb-bP5",
        "outputId": "e3cbb981-6f3e-4201-b1f8-d10cba52d724"
      },
      "execution_count": 301,
      "outputs": [
        {
          "output_type": "display_data",
          "data": {
            "text/plain": [
              "<Figure size 640x480 with 1 Axes>"
            ],
            "image/png": "[encoded data removed]"
          },
          "metadata": {}
        }
      ]
    },
    {
      "cell_type": "code",
      "source": [
        "plot_predictions(predictions=y_preds.cpu())"
      ],
      "metadata": {
        "colab": {
          "base_uri": "https://localhost:8080/",
          "height": 460
        },
        "id": "euWVTa9h8THD",
        "outputId": "45ea7c10-01eb-4aa2-faec-196b90d4f022"
      },
      "execution_count": 302,
      "outputs": [
        {
          "output_type": "display_data",
          "data": {
            "text/plain": [
              "<Figure size 1000x700 with 1 Axes>"
            ],
            "image/png": "[encoded data removed]"
          },
          "metadata": {}
        }
      ]
    },
    {
      "cell_type": "code",
      "source": [
        "# Save the model\n",
        "from pathlib import Path\n",
        "\n",
        "# Create directory name\n",
        "MODEL_DIRECTORY = Path(\"models\")\n",
        "# Create the directory\n",
        "MODEL_DIRECTORY.mkdir(parents=True, exist_ok=True)\n",
        "\n",
        "# Create model name\n",
        "MODEL_NAME = Path(\"LinearRegressionV2model_1.pth\")\n",
        "# Create model path\n",
        "MODEL_PATH = MODEL_DIRECTORY / MODEL_NAME\n",
        "# Save the model\n",
        "torch.save(obj=model_1.state_dict(), f=MODEL_PATH)"
      ],
      "metadata": {
        "id": "9TaQ9Y0Rxox5"
      },
      "execution_count": 303,
      "outputs": []
    },
    {
      "cell_type": "code",
      "source": [
        "# Loading saved model\n",
        "# Create new model\n",
        "model_1_load = LinearRegressionModelV2()\n",
        "\n",
        "# loading saved model state\n",
        "model_1_load.load_state_dict(torch.load(f=MODEL_PATH))\n",
        "model_1_load.to(device)"
      ],
      "metadata": {
        "colab": {
          "base_uri": "https://localhost:8080/"
        },
        "id": "azNBUavA0A2X",
        "outputId": "aa66e38d-ec43-4935-83e3-214bfb70a5a4"
      },
      "execution_count": 304,
      "outputs": [
        {
          "output_type": "execute_result",
          "data": {
            "text/plain": [
              "LinearRegressionModelV2(\n",
              "  (linear_layer): Linear(in_features=1, out_features=1, bias=True)\n",
              ")"
            ]
          },
          "metadata": {},
          "execution_count": 304
        }
      ]
    }
  ]
}