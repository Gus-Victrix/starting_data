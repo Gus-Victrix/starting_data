{
 "cells": [
  {
   "cell_type": "markdown",
   "id": "3be683c9-22ff-4a5a-8922-4d9c988bf1d5",
   "metadata": {},
   "source": [
    "# Visualizing Matrix Multiplication\n",
    "\n",
    "A vector can be decomposed into it's basis vectors $\\hat{i}$ and $\\hat{j}$.\n",
    "The vector can be transformed by multiplying the vector's $x$ and $y$ values by the transformed basis vectors, $\\hat{i}_T$ and $\\hat{j}_T$, summing their results (see *Equation 1*).\n",
    "\n",
    "$\\hspace{1cm}\\textit{transformed } \\vec{v} = x\\mathbin{\\color{green}{\\hat{i}_T}} +\\, y\\, \\mathbin{\\color{red}{\\hat{j}_T}}$\n",
    "\n",
    "$\\hspace{2.3cm}$*Equati_Ton 1*\n",
    "\n",
    "This method of transforming a vector through the use of the transformed basis vectors is the same as matrix multiplication (see *Equation 2*).\n",
    "\n",
    "$\\hspace{1cm}\n",
    "\\begin{bmatrix} \\mathbin{\\color{green}a} & \\mathbin{\\color{red}b}\\\\\n",
    "\\mathbin{\\color{green}c} & \\mathbin{\\color{red}d}\\end{bmatrix}\n",
    "\\begin{bmatrix} x\\\\ y\\end{bmatrix} = x\\begin{bmatrix} \\mathbin{\\color{green}a}\\\\ \\mathbin{\\color{green}c}\\end{bmatrix} + y\n",
    "\\begin{bmatrix} \\mathbin{\\color{red}b}\\\\ \\mathbin{\\color{red}d}\\end{bmatrix} =\n",
    "\\begin{bmatrix} \\mathbin{\\color{green}a}x + \\mathbin{\\color{red}b}y\\\\\n",
    "\\mathbin{\\color{green}c}x + \\mathbin{\\color{red}d}y\\end{bmatrix}\n",
    "$\n",
    "\n",
    "$\\hspace{4.6cm}$*Equation 2*\n",
    "\n",
    "In this lab, I will:\n",
    "\n",
    " - Graph a vector decomposed into it's basis vectors $\\hat{i}$ and $\\hat{j}$.\n",
    " - Graph a vector transformation that uses *Equation 1*\n",
    " - Demonstrate that the same vector transformation can be achieved with matrix multiplication (*Equation 2*)."
   ]
  },
  {
   "cell_type": "markdown",
   "id": "97733fbc-7493-4e78-9cf5-a958716aefc6",
   "metadata": {},
   "source": [
    "## Graphing a vector $\\vec{v}$ Decomposed into Basis Vectors $\\vec{\\hat{i}}$ and $\\vec{\\hat{j}}$\n",
    "\n",
    "For the first part of the lab, I shall be defining vector $\\vec{v}$ as follows:\n",
    "\n",
    "$\\hspace{1cm}\\vec{v} = \\begin{bmatrix} -1\\\\ 2\\end{bmatrix}$\n",
    "\n",
    "Below is an outline that describes what is included in the Python code that follows this cell to plot vectors $\\vec{v}$. $\\hat{i}$, and $\\hat{j}$.\n",
    "\n",
    "1. Avail both NumPy and Matplotlib Python packages via import method.\n",
    "2. Define vector $\\vec{v}$\n",
    "3. Define basis vector $\\vec{\\hat{i}}$.\n",
    "4. Define basis vector $\\vec{\\hat{j}}$.\n",
    "5. Define $\\vec{\\hat{v}}_i$ as *x* multiplied by basis vector $\\vec{\\hat{i}}$\n",
    "6. Define $\\vec{\\hat{v}}_j$ as *y* multiplied by basis vector $\\vec{\\hat{j}}$\n",
    "7. Plot vector $\\vec{v}$ decomposed into $\\vec{\\hat{v}}_i$ and $\\vec{\\hat{v}}_j$ using Matplotlib's pyplot.\n",
    "   1. Create a variable *__ax__* to reference the axes of the plot.\n",
    "   2. Plot the origin as a red dot at the point (0,0) using *__ax__* and *plot* method.\n",
    "   3. Plot vector *__v_ihat__* as a green dotted arrow with origin at (0,0) using *__ax__* and *__arrow()__* method.\n",
    "   4. Plot vector *__v_jhat__* as a red dotted arrow with origin at tip of *__v_ihat__* using *__ax__* and *__arrow()__* method.\n",
    "   5. Plot vector $\\vec{v}$ as a blue arrow with origin at (0,0) using *__ax__* and *__arrow()__* method.\n",
    "   6. Format x-axis\n",
    "      1. Set limits using *__xlim__* method on *__pyplot__*.\n",
    "      2. Set major tick marks using *__ax__* and *__set_xticks()__* method.\n",
    "    7. Format y-axis\n",
    "      1. Set limits using *__ylim__* method on *__pyplot__*.\n",
    "      2. Set major tick marks using *__ax__* and *__set_yticks()__* method.\n",
    "   8. Create the gridlines using *__grid()__* method.\n",
    "   9. Display the plot using show method."
   ]
  },
  {
   "cell_type": "code",
   "execution_count": 9,
   "id": "07c07936-ba80-4dba-9478-7c5e503c0892",
   "metadata": {
    "scrolled": true
   },
   "outputs": [
    {
     "data": {
      "image/png": "[encoded data removed]",
      "text/plain": [
       "<Figure size 640x480 with 1 Axes>"
      ]
     },
     "metadata": {},
     "output_type": "display_data"
    }
   ],
   "source": [
    "# Setting Matplotlib backend to inline\n",
    "%matplotlib inline\n",
    "# Importing NumPy and Matplotlib\n",
    "import numpy as np\n",
    "from matplotlib import pyplot as plt\n",
    "\n",
    "# Defining vector v\n",
    "v = np.array([-1, 2])\n",
    "# Defining basis vector i as i_hat and j as j_hat\n",
    "i_hat = np.array([1, 0])\n",
    "j_hat = np.array([0, 1])\n",
    "\n",
    "# Defining v_ihat as x * i_hat and v_jhat as y * j_hat\n",
    "v_ihat = v[0] * i_hat\n",
    "v_jhat = v[1] * j_hat\n",
    "\n",
    "# Creating axes object\n",
    "ax = plt.axes()\n",
    "\n",
    "# Plotting origin\n",
    "ax.plot(0, 0, 'or')\n",
    "\n",
    "# Plotting vector v, v_ihat and v_jhat as arrows\n",
    "ax.arrow(0, 0, *v, color='b', linewidth=2.5, head_width=0.3, head_length=0.35)\n",
    "ax.arrow(0, 0, *v_ihat, color='g', ls='dotted', linewidth=2.5, head_width=0.3, head_length=0.35)\n",
    "ax.arrow(*v_ihat, *v_jhat, color='r', ls='dotted', linewidth=2.5, head_width=0.3, head_length=0.35)\n",
    "\n",
    "# Formatting the axes\n",
    "major_xticks = np.arange(-4, 1)\n",
    "major_yticks = np.arange(-2, 4)\n",
    "ax.set_xticks(major_xticks)\n",
    "ax.set_yticks(major_yticks)\n",
    "\n",
    "# Setting limits for the axes\n",
    "plt.xlim(-4, 1)\n",
    "plt.ylim(-2, 4)\n",
    "\n",
    "# Adding gridlines\n",
    "ax.grid(which='major')\n",
    "\n",
    "# Displaying results\n",
    "plt.show()"
   ]
  }
 ],
 "metadata": {
  "kernelspec": {
   "display_name": "Python 3 (ipykernel)",
   "language": "python",
   "name": "python3"
  },
  "language_info": {
   "codemirror_mode": {
    "name": "ipython",
    "version": 3
   },
   "file_extension": ".py",
   "mimetype": "text/x-python",
   "name": "python",
   "nbconvert_exporter": "python",
   "pygments_lexer": "ipython3",
   "version": "3.10.13"
  }
 },
 "nbformat": 4,
 "nbformat_minor": 5
}
