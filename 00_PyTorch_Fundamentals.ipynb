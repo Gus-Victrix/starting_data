{
  "nbformat": 4,
  "nbformat_minor": 0,
  "metadata": {
    "colab": {
      "provenance": [],
      "gpuType": "T4",
      "authorship_tag": "ABX9TyObJOzVeXgyBzM6lYRR+lyn",
      "include_colab_link": true
    },
    "kernelspec": {
      "name": "python3",
      "display_name": "Python 3"
    },
    "language_info": {
      "name": "python"
    },
    "accelerator": "GPU"
  },
  "cells": [
    {
      "cell_type": "markdown",
      "metadata": {
        "id": "view-in-github",
        "colab_type": "text"
      },
      "source": [
        "<a href=\"https://colab.research.google.com/github/Gus-Victrix/starting_data/blob/main/00_PyTorch_Fundamentals.ipynb\" target=\"_parent\"><img src=\"https://colab.research.google.com/assets/colab-badge.svg\" alt=\"Open In Colab\"/></a>"
      ]
    },
    {
      "cell_type": "markdown",
      "source": [
        "# 00. PyTorch Fundamentals"
      ],
      "metadata": {
        "id": "P9DenNHPeTOv"
      }
    },
    {
      "cell_type": "code",
      "source": [
        "import torch\n",
        "print(torch.__version__)"
      ],
      "metadata": {
        "colab": {
          "base_uri": "https://localhost:8080/"
        },
        "id": "eVXgFQ66eitf",
        "outputId": "f90a6497-e59d-4d02-89ff-a2d9ad7cf799"
      },
      "execution_count": 1,
      "outputs": [
        {
          "output_type": "stream",
          "name": "stdout",
          "text": [
            "2.1.0+cu121\n"
          ]
        }
      ]
    },
    {
      "cell_type": "code",
      "source": [
        "!nvidia-smi\n"
      ],
      "metadata": {
        "colab": {
          "base_uri": "https://localhost:8080/"
        },
        "id": "sNfkvaEEe42H",
        "outputId": "694a8258-578a-4a74-b353-fb1db01d8401"
      },
      "execution_count": 2,
      "outputs": [
        {
          "output_type": "stream",
          "name": "stdout",
          "text": [
            "Wed Feb 14 23:39:40 2024       \n",
            "+---------------------------------------------------------------------------------------+\n",
            "| NVIDIA-SMI 535.104.05             Driver Version: 535.104.05   CUDA Version: 12.2     |\n",
            "|-----------------------------------------+----------------------+----------------------+\n",
            "| GPU  Name                 Persistence-M | Bus-Id        Disp.A | Volatile Uncorr. ECC |\n",
            "| Fan  Temp   Perf          Pwr:Usage/Cap |         Memory-Usage | GPU-Util  Compute M. |\n",
            "|                                         |                      |               MIG M. |\n",
            "|=========================================+======================+======================|\n",
            "|   0  Tesla T4                       Off | 00000000:00:04.0 Off |                    0 |\n",
            "| N/A   41C    P8               9W /  70W |      0MiB / 15360MiB |      0%      Default |\n",
            "|                                         |                      |                  N/A |\n",
            "+-----------------------------------------+----------------------+----------------------+\n",
            "                                                                                         \n",
            "+---------------------------------------------------------------------------------------+\n",
            "| Processes:                                                                            |\n",
            "|  GPU   GI   CI        PID   Type   Process name                            GPU Memory |\n",
            "|        ID   ID                                                             Usage      |\n",
            "|=======================================================================================|\n",
            "|  No running processes found                                                           |\n",
            "+---------------------------------------------------------------------------------------+\n"
          ]
        }
      ]
    },
    {
      "cell_type": "markdown",
      "source": [
        "## Introduction to Tensors\n",
        "\n",
        "### Creating tensors\n",
        "PyTorch uses `torch.Tensor()` to create them."
      ],
      "metadata": {
        "id": "XUrAOzRfgMVc"
      }
    },
    {
      "cell_type": "code",
      "source": [
        "# scalar\n",
        "scalar = torch.tensor(7)\n",
        "scalar"
      ],
      "metadata": {
        "colab": {
          "base_uri": "https://localhost:8080/"
        },
        "id": "yRjnRvC2froe",
        "outputId": "ccc6fd8d-57e3-4793-8698-68c607978fe4"
      },
      "execution_count": 3,
      "outputs": [
        {
          "output_type": "execute_result",
          "data": {
            "text/plain": [
              "tensor(7)"
            ]
          },
          "metadata": {},
          "execution_count": 3
        }
      ]
    },
    {
      "cell_type": "code",
      "source": [
        "# rank\n",
        "scalar.ndim"
      ],
      "metadata": {
        "colab": {
          "base_uri": "https://localhost:8080/"
        },
        "id": "mvelNk9xgmGt",
        "outputId": "d12f8f79-cd81-416d-cd7a-eb3b39adf138"
      },
      "execution_count": 4,
      "outputs": [
        {
          "output_type": "execute_result",
          "data": {
            "text/plain": [
              "0"
            ]
          },
          "metadata": {},
          "execution_count": 4
        }
      ]
    },
    {
      "cell_type": "code",
      "source": [
        "# getting value from scalar tensor\n",
        "scalar.item()"
      ],
      "metadata": {
        "colab": {
          "base_uri": "https://localhost:8080/"
        },
        "id": "3D-Xaek4g2Pl",
        "outputId": "10031130-b2ab-45ed-a68b-f0e4362cc67f"
      },
      "execution_count": 5,
      "outputs": [
        {
          "output_type": "execute_result",
          "data": {
            "text/plain": [
              "7"
            ]
          },
          "metadata": {},
          "execution_count": 5
        }
      ]
    },
    {
      "cell_type": "code",
      "source": [
        "# vector\n",
        "vector = torch.tensor([4, 8])\n",
        "vector"
      ],
      "metadata": {
        "colab": {
          "base_uri": "https://localhost:8080/"
        },
        "id": "bGpFmgK4hDow",
        "outputId": "655af9be-3775-4a10-b287-be788a8da5e2"
      },
      "execution_count": 6,
      "outputs": [
        {
          "output_type": "execute_result",
          "data": {
            "text/plain": [
              "tensor([4, 8])"
            ]
          },
          "metadata": {},
          "execution_count": 6
        }
      ]
    },
    {
      "cell_type": "code",
      "source": [
        "vector.ndim # no. of brackets"
      ],
      "metadata": {
        "colab": {
          "base_uri": "https://localhost:8080/"
        },
        "id": "_ZjScxj8hV4n",
        "outputId": "3e9ef41f-5581-4730-8eca-ec8d9ef4eb51"
      },
      "execution_count": 7,
      "outputs": [
        {
          "output_type": "execute_result",
          "data": {
            "text/plain": [
              "1"
            ]
          },
          "metadata": {},
          "execution_count": 7
        }
      ]
    },
    {
      "cell_type": "code",
      "source": [
        "# Shape\n",
        "vector.shape"
      ],
      "metadata": {
        "colab": {
          "base_uri": "https://localhost:8080/"
        },
        "id": "KgpVxzPThY_5",
        "outputId": "800fc053-2938-413e-a6bf-32f9dbaf0da7"
      },
      "execution_count": 8,
      "outputs": [
        {
          "output_type": "execute_result",
          "data": {
            "text/plain": [
              "torch.Size([2])"
            ]
          },
          "metadata": {},
          "execution_count": 8
        }
      ]
    },
    {
      "cell_type": "code",
      "source": [
        "# matrix\n",
        "matrix = torch.tensor([[ 4, 4],\n",
        "                       [ 4, 3]])\n",
        "matrix"
      ],
      "metadata": {
        "colab": {
          "base_uri": "https://localhost:8080/"
        },
        "id": "6eP6fBtOhpbN",
        "outputId": "17e3d1f9-2c79-4382-c5eb-fdd124665407"
      },
      "execution_count": 9,
      "outputs": [
        {
          "output_type": "execute_result",
          "data": {
            "text/plain": [
              "tensor([[4, 4],\n",
              "        [4, 3]])"
            ]
          },
          "metadata": {},
          "execution_count": 9
        }
      ]
    },
    {
      "cell_type": "code",
      "source": [
        "print(matrix.shape)\n",
        "print(matrix.ndim)\n",
        "print(matrix)"
      ],
      "metadata": {
        "colab": {
          "base_uri": "https://localhost:8080/"
        },
        "id": "g_9k_8SRiU7l",
        "outputId": "e54af5f8-194b-41e7-f640-442eb8d15cff"
      },
      "execution_count": 10,
      "outputs": [
        {
          "output_type": "stream",
          "name": "stdout",
          "text": [
            "torch.Size([2, 2])\n",
            "2\n",
            "tensor([[4, 4],\n",
            "        [4, 3]])\n"
          ]
        }
      ]
    },
    {
      "cell_type": "code",
      "source": [
        "# tensor\n",
        "tensor = torch.tensor([[[1, 2, 3],\n",
        "                        [3, 5, 3],\n",
        "                        [2, 3, 4]]])"
      ],
      "metadata": {
        "id": "wc4_tWzVivjh"
      },
      "execution_count": 11,
      "outputs": []
    },
    {
      "cell_type": "code",
      "source": [
        "print(tensor)\n",
        "print(tensor.shape)\n",
        "print(tensor.ndim)"
      ],
      "metadata": {
        "colab": {
          "base_uri": "https://localhost:8080/"
        },
        "id": "QWyfKIh9jNsl",
        "outputId": "5766fef6-d86c-4504-dc5d-52ae41f51863"
      },
      "execution_count": 12,
      "outputs": [
        {
          "output_type": "stream",
          "name": "stdout",
          "text": [
            "tensor([[[1, 2, 3],\n",
            "         [3, 5, 3],\n",
            "         [2, 3, 4]]])\n",
            "torch.Size([1, 3, 3])\n",
            "3\n"
          ]
        }
      ]
    },
    {
      "cell_type": "markdown",
      "source": [
        "### Random tensors\n",
        "\n",
        "Why random tensors?\n",
        "\n",
        "> Many neural networks learn by randomized tensors and adjust those random numbers to better represent the\n",
        "\n",
        "`Take random numbers -> look at data -> update random numbers -> repeat step 2 until random numbers closely match data`"
      ],
      "metadata": {
        "id": "yDhMhmlCkDoN"
      }
    },
    {
      "cell_type": "code",
      "source": [
        "# Create a random tensor of size (3, 4)\n",
        "random_tensor = torch.rand(3, 4)\n",
        "random_tensor"
      ],
      "metadata": {
        "colab": {
          "base_uri": "https://localhost:8080/"
        },
        "id": "46kZ0C27j6w6",
        "outputId": "5f652ac0-ad46-4dca-dd73-3530c0b37fd4"
      },
      "execution_count": 13,
      "outputs": [
        {
          "output_type": "execute_result",
          "data": {
            "text/plain": [
              "tensor([[0.1697, 0.6018, 0.8632, 0.6173],\n",
              "        [0.7566, 0.1024, 0.0160, 0.3017],\n",
              "        [0.0896, 0.6034, 0.0493, 0.8302]])"
            ]
          },
          "metadata": {},
          "execution_count": 13
        }
      ]
    },
    {
      "cell_type": "code",
      "source": [
        "# Create a random tensor similar to image\n",
        "random_image_tensor = torch.rand(size=(224, 224, 3)) # height, width, color channels\n",
        "random_image_tensor.shape, random_image_tensor.ndim"
      ],
      "metadata": {
        "colab": {
          "base_uri": "https://localhost:8080/"
        },
        "id": "M3VLiGqAlOcc",
        "outputId": "c5aa423e-37c7-4434-bd04-50712c59c957"
      },
      "execution_count": 14,
      "outputs": [
        {
          "output_type": "execute_result",
          "data": {
            "text/plain": [
              "(torch.Size([224, 224, 3]), 3)"
            ]
          },
          "metadata": {},
          "execution_count": 14
        }
      ]
    },
    {
      "cell_type": "markdown",
      "source": [
        "### Zeroes and ones"
      ],
      "metadata": {
        "id": "Oh7OA01cmNFW"
      }
    },
    {
      "cell_type": "code",
      "source": [
        "# tensor with all zeroes\n",
        "zeros = torch.zeros(size=(3, 4))\n",
        "zeros"
      ],
      "metadata": {
        "colab": {
          "base_uri": "https://localhost:8080/"
        },
        "id": "1EzGDl-UmJtJ",
        "outputId": "1649063a-3c38-44a4-f334-a2ef7cb78bdf"
      },
      "execution_count": 15,
      "outputs": [
        {
          "output_type": "execute_result",
          "data": {
            "text/plain": [
              "tensor([[0., 0., 0., 0.],\n",
              "        [0., 0., 0., 0.],\n",
              "        [0., 0., 0., 0.]])"
            ]
          },
          "metadata": {},
          "execution_count": 15
        }
      ]
    },
    {
      "cell_type": "code",
      "source": [
        "# tensor of all ones\n",
        "ones = torch.ones(size=(3, 4))\n",
        "ones"
      ],
      "metadata": {
        "colab": {
          "base_uri": "https://localhost:8080/"
        },
        "id": "pX9jZRIameMB",
        "outputId": "80b8edde-4fd0-4a90-c0e6-01fd7d8c2c71"
      },
      "execution_count": 16,
      "outputs": [
        {
          "output_type": "execute_result",
          "data": {
            "text/plain": [
              "tensor([[1., 1., 1., 1.],\n",
              "        [1., 1., 1., 1.],\n",
              "        [1., 1., 1., 1.]])"
            ]
          },
          "metadata": {},
          "execution_count": 16
        }
      ]
    },
    {
      "cell_type": "code",
      "source": [
        "# data-type\n",
        "ones.dtype"
      ],
      "metadata": {
        "colab": {
          "base_uri": "https://localhost:8080/"
        },
        "id": "cDqEZDqSmnWQ",
        "outputId": "e85b21f0-5c33-43c0-edd3-93f558c77a4b"
      },
      "execution_count": 17,
      "outputs": [
        {
          "output_type": "execute_result",
          "data": {
            "text/plain": [
              "torch.float32"
            ]
          },
          "metadata": {},
          "execution_count": 17
        }
      ]
    },
    {
      "cell_type": "markdown",
      "source": [
        "### Creating a range of tensors and tensors-like"
      ],
      "metadata": {
        "id": "PtaPRJDhmygQ"
      }
    },
    {
      "cell_type": "code",
      "source": [
        "# Torch.range ** to be deprecated **\n",
        "one_to_ten = torch.range(1, 10)\n",
        "one_to_ten"
      ],
      "metadata": {
        "colab": {
          "base_uri": "https://localhost:8080/"
        },
        "id": "vrfErLA8m4Bw",
        "outputId": "40026129-003c-49ae-d8b4-0c758bc884ad"
      },
      "execution_count": 18,
      "outputs": [
        {
          "output_type": "stream",
          "name": "stderr",
          "text": [
            "<ipython-input-18-6846e2ee7563>:2: UserWarning: torch.range is deprecated and will be removed in a future release because its behavior is inconsistent with Python's range builtin. Instead, use torch.arange, which produces values in [start, end).\n",
            "  one_to_ten = torch.range(1, 10)\n"
          ]
        },
        {
          "output_type": "execute_result",
          "data": {
            "text/plain": [
              "tensor([ 1.,  2.,  3.,  4.,  5.,  6.,  7.,  8.,  9., 10.])"
            ]
          },
          "metadata": {},
          "execution_count": 18
        }
      ]
    },
    {
      "cell_type": "code",
      "source": [
        "# Torch.arange\n",
        "one_to_nine = torch.arange(1, 10)\n",
        "one_to_nine"
      ],
      "metadata": {
        "colab": {
          "base_uri": "https://localhost:8080/"
        },
        "id": "sdT_XCQJnOBc",
        "outputId": "01152c49-6192-48d3-8c7d-88f736865fbc"
      },
      "execution_count": 19,
      "outputs": [
        {
          "output_type": "execute_result",
          "data": {
            "text/plain": [
              "tensor([1, 2, 3, 4, 5, 6, 7, 8, 9])"
            ]
          },
          "metadata": {},
          "execution_count": 19
        }
      ]
    },
    {
      "cell_type": "code",
      "source": [
        "# Creating tensors with same shape as another\n",
        "ten_zeros = torch.zeros_like(one_to_ten)\n",
        "ten_zeros"
      ],
      "metadata": {
        "colab": {
          "base_uri": "https://localhost:8080/"
        },
        "id": "mkBVHyt5nouo",
        "outputId": "bf286217-c937-441c-df47-89c3478ed039"
      },
      "execution_count": 20,
      "outputs": [
        {
          "output_type": "execute_result",
          "data": {
            "text/plain": [
              "tensor([0., 0., 0., 0., 0., 0., 0., 0., 0., 0.])"
            ]
          },
          "metadata": {},
          "execution_count": 20
        }
      ]
    },
    {
      "cell_type": "markdown",
      "source": [
        "### Tensor datatypes\n",
        "\n",
        "**Note:** Tensor datatypes is one of the 3 main errors encountered in deeplearning\n",
        "\n",
        "1. Tensors not right datatype\n",
        "2. Tensors not right shape\n",
        "3. Tensors not on the right device"
      ],
      "metadata": {
        "id": "d7Rit2ptoO8X"
      }
    },
    {
      "cell_type": "code",
      "source": [
        "# Float 32 tensor ** default data-type **\n",
        "float_32 = torch.tensor([2, 3 ,4.], dtype=None)\n",
        "float_32.dtype"
      ],
      "metadata": {
        "colab": {
          "base_uri": "https://localhost:8080/"
        },
        "id": "TND0sJsooC02",
        "outputId": "155f17cd-4c08-4525-9a74-22e341965639"
      },
      "execution_count": 21,
      "outputs": [
        {
          "output_type": "execute_result",
          "data": {
            "text/plain": [
              "torch.float32"
            ]
          },
          "metadata": {},
          "execution_count": 21
        }
      ]
    },
    {
      "cell_type": "code",
      "source": [
        "# Float 64 tensor\n",
        "float_64 = torch.tensor([2. ,3 ,4],  # Data used to create the tensor\n",
        "                        dtype=torch.float64,  # Precision\n",
        "                        device=None,  # The device where the tensor is located\n",
        "                        requires_grad=False)  # Whether or not to track gradient\n",
        "float_64.dtype"
      ],
      "metadata": {
        "colab": {
          "base_uri": "https://localhost:8080/"
        },
        "id": "6fYGOXIMolPP",
        "outputId": "0c6edd6c-9c2a-483d-b920-34eb0d3e5a63"
      },
      "execution_count": 22,
      "outputs": [
        {
          "output_type": "execute_result",
          "data": {
            "text/plain": [
              "torch.float64"
            ]
          },
          "metadata": {},
          "execution_count": 22
        }
      ]
    },
    {
      "cell_type": "code",
      "source": [
        "# torch.float16 tensor, conversion from float64\n",
        "float_16 = float_64.type(torch.float16)\n",
        "float_16.dtype"
      ],
      "metadata": {
        "colab": {
          "base_uri": "https://localhost:8080/"
        },
        "id": "7k6jXuhAqEbM",
        "outputId": "198534b0-34b1-4ec1-d019-977dfae392c4"
      },
      "execution_count": 23,
      "outputs": [
        {
          "output_type": "execute_result",
          "data": {
            "text/plain": [
              "torch.float16"
            ]
          },
          "metadata": {},
          "execution_count": 23
        }
      ]
    },
    {
      "cell_type": "markdown",
      "source": [
        "### Getting information from tensors\n",
        "\n",
        "1. Tensor shape :`tensor.shape`\n",
        "2. Tensor data type: `tensor.dtype`\n",
        "3. Tensor device: `tensor.device`"
      ],
      "metadata": {
        "id": "j4k9iMHeq2eo"
      }
    },
    {
      "cell_type": "code",
      "source": [
        "# Create random tensor\n",
        "rand = torch.rand(3, 2, 3)\n",
        "\n",
        "# Obtain information from random tensor\n",
        "print(f\"Tensor shape: {tensor.shape}\")\n",
        "print(f\"Tensor datatype: {tensor.dtype}\")\n",
        "print(f\"Tensor's device: {tensor.device}\")"
      ],
      "metadata": {
        "colab": {
          "base_uri": "https://localhost:8080/"
        },
        "id": "jCltz-plq2FU",
        "outputId": "c021308d-6af4-45e0-f4cd-2b4714dfc4ef"
      },
      "execution_count": 24,
      "outputs": [
        {
          "output_type": "stream",
          "name": "stdout",
          "text": [
            "Tensor shape: torch.Size([1, 3, 3])\n",
            "Tensor datatype: torch.int64\n",
            "Tensor's device: cpu\n"
          ]
        }
      ]
    },
    {
      "cell_type": "markdown",
      "source": [
        "### Manipulating tensors (tensor operations)\n",
        "\n",
        "These include:\n",
        "- Addition\n",
        "- Subtraction\n",
        "- Multiplication (element-wise)\n",
        "- Division\n",
        "- Matrix multiplication"
      ],
      "metadata": {
        "id": "7ZQB6wiHsoyp"
      }
    },
    {
      "cell_type": "code",
      "source": [
        "# Create a tensor\n",
        "tensor = torch.tensor([1, 2, 3])\n",
        "# add ten\n",
        "tensor + 10"
      ],
      "metadata": {
        "colab": {
          "base_uri": "https://localhost:8080/"
        },
        "id": "EV3Nk9hps33W",
        "outputId": "aefaed07-51b0-40ee-f5fa-b1d48c8e313f"
      },
      "execution_count": 25,
      "outputs": [
        {
          "output_type": "execute_result",
          "data": {
            "text/plain": [
              "tensor([11, 12, 13])"
            ]
          },
          "metadata": {},
          "execution_count": 25
        }
      ]
    },
    {
      "cell_type": "code",
      "source": [
        "# multiply by ten\n",
        "tensor * 10"
      ],
      "metadata": {
        "colab": {
          "base_uri": "https://localhost:8080/"
        },
        "id": "4R9L7F38tNgP",
        "outputId": "d4da9038-8ec7-45ca-be55-7aa7cbe84ad1"
      },
      "execution_count": 26,
      "outputs": [
        {
          "output_type": "execute_result",
          "data": {
            "text/plain": [
              "tensor([10, 20, 30])"
            ]
          },
          "metadata": {},
          "execution_count": 26
        }
      ]
    },
    {
      "cell_type": "code",
      "source": [
        "# divide by ten\n",
        "tensor / 10"
      ],
      "metadata": {
        "colab": {
          "base_uri": "https://localhost:8080/"
        },
        "id": "kkdZbNMRtRch",
        "outputId": "367c6615-d4ff-4ed6-a088-c2934f14bb62"
      },
      "execution_count": 27,
      "outputs": [
        {
          "output_type": "execute_result",
          "data": {
            "text/plain": [
              "tensor([0.1000, 0.2000, 0.3000])"
            ]
          },
          "metadata": {},
          "execution_count": 27
        }
      ]
    },
    {
      "cell_type": "code",
      "source": [
        "# subtract ten\n",
        "tensor - 10"
      ],
      "metadata": {
        "colab": {
          "base_uri": "https://localhost:8080/"
        },
        "id": "AdnE3FfVtUUT",
        "outputId": "0487fd87-32cb-45da-e8df-ac8e88bef231"
      },
      "execution_count": 28,
      "outputs": [
        {
          "output_type": "execute_result",
          "data": {
            "text/plain": [
              "tensor([-9, -8, -7])"
            ]
          },
          "metadata": {},
          "execution_count": 28
        }
      ]
    },
    {
      "cell_type": "code",
      "source": [
        "# inbuilt pytorch\n",
        "print(torch.mul(tensor, 10))\n",
        "print(torch.add(tensor, 10))\n",
        "print(torch.sub(tensor, 10))\n",
        "print(torch.div(tensor, 10))"
      ],
      "metadata": {
        "colab": {
          "base_uri": "https://localhost:8080/"
        },
        "id": "I5Zti5fEthFA",
        "outputId": "c6bedcd4-299d-4b0b-9305-eab4f8abc94e"
      },
      "execution_count": 29,
      "outputs": [
        {
          "output_type": "stream",
          "name": "stdout",
          "text": [
            "tensor([10, 20, 30])\n",
            "tensor([11, 12, 13])\n",
            "tensor([-9, -8, -7])\n",
            "tensor([0.1000, 0.2000, 0.3000])\n"
          ]
        }
      ]
    },
    {
      "cell_type": "markdown",
      "source": [
        "#### Matrix multiplication\n"
      ],
      "metadata": {
        "id": "ubEYeLk8uNO5"
      }
    },
    {
      "cell_type": "code",
      "source": [
        "tensor = torch.rand(size=[2,2,2])"
      ],
      "metadata": {
        "id": "Qa2pv4xUvaWn"
      },
      "execution_count": 30,
      "outputs": []
    },
    {
      "cell_type": "code",
      "source": [
        "%%time\n",
        "tensor.matmul(tensor)"
      ],
      "metadata": {
        "colab": {
          "base_uri": "https://localhost:8080/"
        },
        "id": "vJCWkmSQt_sQ",
        "outputId": "61adb54e-9894-496a-e255-7ae0f3e45a49"
      },
      "execution_count": 31,
      "outputs": [
        {
          "output_type": "stream",
          "name": "stdout",
          "text": [
            "CPU times: user 1.23 ms, sys: 48 µs, total: 1.28 ms\n",
            "Wall time: 4.33 ms\n"
          ]
        },
        {
          "output_type": "execute_result",
          "data": {
            "text/plain": [
              "tensor([[[0.3955, 0.5437],\n",
              "         [0.8078, 1.1426]],\n",
              "\n",
              "        [[0.3963, 0.5553],\n",
              "         [0.3170, 0.5043]]])"
            ]
          },
          "metadata": {},
          "execution_count": 31
        }
      ]
    },
    {
      "cell_type": "code",
      "source": [
        "%%time\n",
        "torch.matmul(tensor, tensor)"
      ],
      "metadata": {
        "colab": {
          "base_uri": "https://localhost:8080/"
        },
        "id": "EBl-lHqDvGaB",
        "outputId": "e12c233d-eccc-47a4-ec26-ae22d3b9ab84"
      },
      "execution_count": 32,
      "outputs": [
        {
          "output_type": "stream",
          "name": "stdout",
          "text": [
            "CPU times: user 73 µs, sys: 0 ns, total: 73 µs\n",
            "Wall time: 77 µs\n"
          ]
        },
        {
          "output_type": "execute_result",
          "data": {
            "text/plain": [
              "tensor([[[0.3955, 0.5437],\n",
              "         [0.8078, 1.1426]],\n",
              "\n",
              "        [[0.3963, 0.5553],\n",
              "         [0.3170, 0.5043]]])"
            ]
          },
          "metadata": {},
          "execution_count": 32
        }
      ]
    },
    {
      "cell_type": "markdown",
      "source": [
        "1. Inner dimensions must match\n",
        "- `(3, 2) @ (3, 2)` won't work\n",
        "- `(2, 3) @ (3, 2)` will work\n",
        "2. Outer dimensions determine final shape\n",
        "- `(3, 2) @ (2, 3)` produces `(3, 3)`"
      ],
      "metadata": {
        "id": "DslSxyD5zXzA"
      }
    },
    {
      "cell_type": "code",
      "source": [
        "torch.rand(2,3).matmul(torch.rand(3, 2))"
      ],
      "metadata": {
        "colab": {
          "base_uri": "https://localhost:8080/"
        },
        "id": "7HS_uC8VzRxG",
        "outputId": "bcc2b23c-42d9-4b39-b882-558a313827e6"
      },
      "execution_count": 33,
      "outputs": [
        {
          "output_type": "execute_result",
          "data": {
            "text/plain": [
              "tensor([[0.2733, 0.7964],\n",
              "        [0.2597, 1.0040]])"
            ]
          },
          "metadata": {},
          "execution_count": 33
        }
      ]
    },
    {
      "cell_type": "code",
      "source": [
        "torch.rand(3,2).matmul(torch.rand(2, 3))"
      ],
      "metadata": {
        "colab": {
          "base_uri": "https://localhost:8080/"
        },
        "id": "y5rbwp670NJq",
        "outputId": "3136f103-a6d8-4d9a-88c7-6644ec10e7d8"
      },
      "execution_count": 34,
      "outputs": [
        {
          "output_type": "execute_result",
          "data": {
            "text/plain": [
              "tensor([[0.1378, 0.3949, 0.2319],\n",
              "        [0.6781, 0.5311, 0.4973],\n",
              "        [0.0757, 0.2138, 0.1260]])"
            ]
          },
          "metadata": {},
          "execution_count": 34
        }
      ]
    },
    {
      "cell_type": "markdown",
      "source": [
        "## Reshaping, stacking, squeezing and unsqueezing tensors\n",
        "\n",
        "- Reshaping - changes tensor to specified shape of the same size\n",
        "- View - Same tensor different perspective\n",
        "- Stacking - combine multiple tensors on top of one another (vstack) or side by side (hstack)\n",
        "- Squeeze - removes all `1` dimension from a tensor.\n",
        "- Unsqueeze - add 1 dimension to target tensor.\n",
        "- Permute - Return a view with dimensions swapped a certain way."
      ],
      "metadata": {
        "id": "4PyD2oNtgUUx"
      }
    },
    {
      "cell_type": "code",
      "source": [
        "# Creating a tensor\n",
        "import torch\n",
        "x = torch.arange(1., 10.)\n",
        "x, x.shape"
      ],
      "metadata": {
        "colab": {
          "base_uri": "https://localhost:8080/"
        },
        "id": "U7qJL_0uhjqn",
        "outputId": "845a172f-fa3f-447d-92fb-4527e214899c"
      },
      "execution_count": 35,
      "outputs": [
        {
          "output_type": "execute_result",
          "data": {
            "text/plain": [
              "(tensor([1., 2., 3., 4., 5., 6., 7., 8., 9.]), torch.Size([9]))"
            ]
          },
          "metadata": {},
          "execution_count": 35
        }
      ]
    },
    {
      "cell_type": "code",
      "source": [
        "# Add an extra dimension\n",
        "x.reshape(1, 9), x.reshape(9, 1)"
      ],
      "metadata": {
        "colab": {
          "base_uri": "https://localhost:8080/"
        },
        "id": "wAnsQx-KhuLX",
        "outputId": "3ba417dd-93e1-4256-e920-26135872b3f5"
      },
      "execution_count": 36,
      "outputs": [
        {
          "output_type": "execute_result",
          "data": {
            "text/plain": [
              "(tensor([[1., 2., 3., 4., 5., 6., 7., 8., 9.]]),\n",
              " tensor([[1.],\n",
              "         [2.],\n",
              "         [3.],\n",
              "         [4.],\n",
              "         [5.],\n",
              "         [6.],\n",
              "         [7.],\n",
              "         [8.],\n",
              "         [9.]]))"
            ]
          },
          "metadata": {},
          "execution_count": 36
        }
      ]
    },
    {
      "cell_type": "code",
      "source": [
        "# Changing the view\n",
        "z = x.view(9,1)\n",
        "z, z.shape"
      ],
      "metadata": {
        "colab": {
          "base_uri": "https://localhost:8080/"
        },
        "id": "UkRNhs7piYJH",
        "outputId": "a64d80cb-d657-4c69-c05d-896e2695678c"
      },
      "execution_count": 37,
      "outputs": [
        {
          "output_type": "execute_result",
          "data": {
            "text/plain": [
              "(tensor([[1.],\n",
              "         [2.],\n",
              "         [3.],\n",
              "         [4.],\n",
              "         [5.],\n",
              "         [6.],\n",
              "         [7.],\n",
              "         [8.],\n",
              "         [9.]]),\n",
              " torch.Size([9, 1]))"
            ]
          },
          "metadata": {},
          "execution_count": 37
        }
      ]
    },
    {
      "cell_type": "code",
      "source": [
        "# Changing z changes x bcoz they reside in same memory\n",
        "z[0][0] = 10\n",
        "z, x"
      ],
      "metadata": {
        "colab": {
          "base_uri": "https://localhost:8080/"
        },
        "id": "4rcpSgA7ipJZ",
        "outputId": "98298ec6-e2a4-4e88-f1f6-3c82069c0a64"
      },
      "execution_count": 38,
      "outputs": [
        {
          "output_type": "execute_result",
          "data": {
            "text/plain": [
              "(tensor([[10.],\n",
              "         [ 2.],\n",
              "         [ 3.],\n",
              "         [ 4.],\n",
              "         [ 5.],\n",
              "         [ 6.],\n",
              "         [ 7.],\n",
              "         [ 8.],\n",
              "         [ 9.]]),\n",
              " tensor([10.,  2.,  3.,  4.,  5.,  6.,  7.,  8.,  9.]))"
            ]
          },
          "metadata": {},
          "execution_count": 38
        }
      ]
    },
    {
      "cell_type": "code",
      "source": [
        "# Stack tensors on top of each other\n",
        "x_stacked = torch.stack([x,x,x,x,x,x], dim=1)\n",
        "x_stacked"
      ],
      "metadata": {
        "colab": {
          "base_uri": "https://localhost:8080/"
        },
        "id": "KgzrJsqkjCXc",
        "outputId": "426363ab-420c-4075-fc3e-0d36079bb002"
      },
      "execution_count": 39,
      "outputs": [
        {
          "output_type": "execute_result",
          "data": {
            "text/plain": [
              "tensor([[10., 10., 10., 10., 10., 10.],\n",
              "        [ 2.,  2.,  2.,  2.,  2.,  2.],\n",
              "        [ 3.,  3.,  3.,  3.,  3.,  3.],\n",
              "        [ 4.,  4.,  4.,  4.,  4.,  4.],\n",
              "        [ 5.,  5.,  5.,  5.,  5.,  5.],\n",
              "        [ 6.,  6.,  6.,  6.,  6.,  6.],\n",
              "        [ 7.,  7.,  7.,  7.,  7.,  7.],\n",
              "        [ 8.,  8.,  8.,  8.,  8.,  8.],\n",
              "        [ 9.,  9.,  9.,  9.,  9.,  9.]])"
            ]
          },
          "metadata": {},
          "execution_count": 39
        }
      ]
    },
    {
      "cell_type": "code",
      "source": [
        "# Squeeze\n",
        "x_stacked.squeeze(), x.squeeze(), z.squeeze()\n"
      ],
      "metadata": {
        "colab": {
          "base_uri": "https://localhost:8080/"
        },
        "id": "_Ib5wDEXjlIL",
        "outputId": "da7607c0-6c97-4f62-f90e-c2dcdb21d037"
      },
      "execution_count": 40,
      "outputs": [
        {
          "output_type": "execute_result",
          "data": {
            "text/plain": [
              "(tensor([[10., 10., 10., 10., 10., 10.],\n",
              "         [ 2.,  2.,  2.,  2.,  2.,  2.],\n",
              "         [ 3.,  3.,  3.,  3.,  3.,  3.],\n",
              "         [ 4.,  4.,  4.,  4.,  4.,  4.],\n",
              "         [ 5.,  5.,  5.,  5.,  5.,  5.],\n",
              "         [ 6.,  6.,  6.,  6.,  6.,  6.],\n",
              "         [ 7.,  7.,  7.,  7.,  7.,  7.],\n",
              "         [ 8.,  8.,  8.,  8.,  8.,  8.],\n",
              "         [ 9.,  9.,  9.,  9.,  9.,  9.]]),\n",
              " tensor([10.,  2.,  3.,  4.,  5.,  6.,  7.,  8.,  9.]),\n",
              " tensor([10.,  2.,  3.,  4.,  5.,  6.,  7.,  8.,  9.]))"
            ]
          },
          "metadata": {},
          "execution_count": 40
        }
      ]
    },
    {
      "cell_type": "code",
      "source": [
        "#unsqueeze\n",
        "x.unsqueeze(dim=1)"
      ],
      "metadata": {
        "colab": {
          "base_uri": "https://localhost:8080/"
        },
        "id": "COjsKFN2kFJe",
        "outputId": "c116127d-48ae-4135-c4ae-78069171122f"
      },
      "execution_count": 41,
      "outputs": [
        {
          "output_type": "execute_result",
          "data": {
            "text/plain": [
              "tensor([[10.],\n",
              "        [ 2.],\n",
              "        [ 3.],\n",
              "        [ 4.],\n",
              "        [ 5.],\n",
              "        [ 6.],\n",
              "        [ 7.],\n",
              "        [ 8.],\n",
              "        [ 9.]])"
            ]
          },
          "metadata": {},
          "execution_count": 41
        }
      ]
    },
    {
      "cell_type": "code",
      "source": [
        "# Permute\n",
        "print(x.unsqueeze(dim=1).shape)\n",
        "print(x.unsqueeze(dim=1).permute(1,0))"
      ],
      "metadata": {
        "colab": {
          "base_uri": "https://localhost:8080/"
        },
        "id": "c2PJ9QM-kiIS",
        "outputId": "ccf0e1f2-409a-4089-c2f9-f7e7653fe7a7"
      },
      "execution_count": 42,
      "outputs": [
        {
          "output_type": "stream",
          "name": "stdout",
          "text": [
            "torch.Size([9, 1])\n",
            "tensor([[10.,  2.,  3.,  4.,  5.,  6.,  7.,  8.,  9.]])\n"
          ]
        }
      ]
    },
    {
      "cell_type": "markdown",
      "source": [
        "## Indexing (selecting data from tensors)\n",
        "\n",
        "It follows the same concept as numpy indexing"
      ],
      "metadata": {
        "id": "43XQqwYFloDu"
      }
    },
    {
      "cell_type": "code",
      "source": [
        "print(tensor, end=\"\\n\\n\")\n",
        "tensor[:, 0, 0]"
      ],
      "metadata": {
        "colab": {
          "base_uri": "https://localhost:8080/"
        },
        "id": "R4HpE9UZu04A",
        "outputId": "a61d3dc3-e2cd-4d7e-e28c-6ca93e2474a4"
      },
      "execution_count": 43,
      "outputs": [
        {
          "output_type": "stream",
          "name": "stdout",
          "text": [
            "tensor([[[0.3828, 0.4093],\n",
            "         [0.6082, 0.9454]],\n",
            "\n",
            "        [[0.5008, 0.5049],\n",
            "         [0.2882, 0.5990]]])\n",
            "\n"
          ]
        },
        {
          "output_type": "execute_result",
          "data": {
            "text/plain": [
              "tensor([0.3828, 0.5008])"
            ]
          },
          "metadata": {},
          "execution_count": 43
        }
      ]
    },
    {
      "cell_type": "markdown",
      "source": [
        "## PyTorch tensor & NumPy\n",
        "You can transform:\n",
        "- NumPy ndarray to PyTorch tensor `torch.from_numpy()`\n",
        "- PyTorch tensor to NumPy ndarray `torch.to_numpy()`"
      ],
      "metadata": {
        "id": "p7fK-QLHxAD2"
      }
    },
    {
      "cell_type": "code",
      "source": [
        "# NumPy array to tensor\n",
        "import torch\n",
        "import numpy as np\n",
        "array = np.arange(1.0, 8.0)\n",
        "tensor = torch.from_numpy(array)\n",
        "array, tensor"
      ],
      "metadata": {
        "colab": {
          "base_uri": "https://localhost:8080/"
        },
        "id": "fEZF7_ZVw-UF",
        "outputId": "7565afc2-fa33-4411-9209-91bc0a547473"
      },
      "execution_count": 44,
      "outputs": [
        {
          "output_type": "execute_result",
          "data": {
            "text/plain": [
              "(array([1., 2., 3., 4., 5., 6., 7.]),\n",
              " tensor([1., 2., 3., 4., 5., 6., 7.], dtype=torch.float64))"
            ]
          },
          "metadata": {},
          "execution_count": 44
        }
      ]
    },
    {
      "cell_type": "code",
      "source": [
        "# torch has default data type as float32 while numpy has float64 as default\n",
        "np.arange(1., 3.).dtype, torch.arange(1., 3.).dtype"
      ],
      "metadata": {
        "colab": {
          "base_uri": "https://localhost:8080/"
        },
        "id": "gSQyxM3HyCrY",
        "outputId": "f0698ecd-ddb8-4f74-f55f-93d8bfcfc511"
      },
      "execution_count": 45,
      "outputs": [
        {
          "output_type": "execute_result",
          "data": {
            "text/plain": [
              "(dtype('float64'), torch.float32)"
            ]
          },
          "metadata": {},
          "execution_count": 45
        }
      ]
    },
    {
      "cell_type": "code",
      "source": [
        "# Tensor to NumPy array\n",
        "tensor = torch.ones(7,3)\n",
        "numpy_tensor = tensor.numpy()  # NumPy inherits the default float32 from torch\n",
        "tensor, numpy_tensor"
      ],
      "metadata": {
        "colab": {
          "base_uri": "https://localhost:8080/"
        },
        "id": "OzlUtqCXysAV",
        "outputId": "1d5679b2-3453-4cf3-caca-da551c33ad63"
      },
      "execution_count": 46,
      "outputs": [
        {
          "output_type": "execute_result",
          "data": {
            "text/plain": [
              "(tensor([[1., 1., 1.],\n",
              "         [1., 1., 1.],\n",
              "         [1., 1., 1.],\n",
              "         [1., 1., 1.],\n",
              "         [1., 1., 1.],\n",
              "         [1., 1., 1.],\n",
              "         [1., 1., 1.]]),\n",
              " array([[1., 1., 1.],\n",
              "        [1., 1., 1.],\n",
              "        [1., 1., 1.],\n",
              "        [1., 1., 1.],\n",
              "        [1., 1., 1.],\n",
              "        [1., 1., 1.],\n",
              "        [1., 1., 1.]], dtype=float32))"
            ]
          },
          "metadata": {},
          "execution_count": 46
        }
      ]
    },
    {
      "cell_type": "markdown",
      "source": [
        "## Reproducibility (trying to take random out of random)\n",
        "\n",
        "Sometimes it's necessary to set the same starting point for all instances of a neural network.\n",
        "\n",
        "To reduce the randomness in neural networks, there's a concept of a `random seed`\n",
        "\n",
        "This flavors the randomness, by ensuring that there's a common starting point for all instances of the same experiment."
      ],
      "metadata": {
        "id": "Di-iWozpzhLZ"
      }
    },
    {
      "cell_type": "code",
      "source": [
        "# Demonstrating unreproducability of random generators\n",
        "torch.rand(3, 3), torch.rand(3, 3), torch.rand(3, 3)"
      ],
      "metadata": {
        "colab": {
          "base_uri": "https://localhost:8080/"
        },
        "id": "_SWNIuVkzXr5",
        "outputId": "9615262d-f8e3-4d4a-cf19-d154d88e59b8"
      },
      "execution_count": 47,
      "outputs": [
        {
          "output_type": "execute_result",
          "data": {
            "text/plain": [
              "(tensor([[0.2114, 0.5945, 0.7739],\n",
              "         [0.8348, 0.0742, 0.0235],\n",
              "         [0.5365, 0.9832, 0.1946]]),\n",
              " tensor([[0.9052, 0.8732, 0.9854],\n",
              "         [0.9938, 0.2059, 0.7892],\n",
              "         [0.3107, 0.9796, 0.7936]]),\n",
              " tensor([[0.2605, 0.5638, 0.7787],\n",
              "         [0.4882, 0.5510, 0.1286],\n",
              "         [0.6481, 0.2491, 0.2851]]))"
            ]
          },
          "metadata": {},
          "execution_count": 47
        }
      ]
    },
    {
      "cell_type": "code",
      "source": [
        "# Making randomness reproducible\n",
        "import torch\n",
        "# Set random seed\n",
        "RANDOM_SEED = 42\n",
        "# seeding first tensor\n",
        "torch.manual_seed(RANDOM_SEED)\n",
        "tensor1 = torch.rand(3, 4)\n",
        "# seeding second tensor\n",
        "torch.manual_seed(RANDOM_SEED)\n",
        "tensor2 = torch.rand(3,4)\n",
        "# comparing the generated values\n",
        "tensor2 == tensor1"
      ],
      "metadata": {
        "colab": {
          "base_uri": "https://localhost:8080/"
        },
        "id": "g_9HyLO40Gre",
        "outputId": "cfcb5903-07ae-4e8d-ce3e-79e67d77ae9a"
      },
      "execution_count": 48,
      "outputs": [
        {
          "output_type": "execute_result",
          "data": {
            "text/plain": [
              "tensor([[True, True, True, True],\n",
              "        [True, True, True, True],\n",
              "        [True, True, True, True]])"
            ]
          },
          "metadata": {},
          "execution_count": 48
        }
      ]
    },
    {
      "cell_type": "markdown",
      "source": [
        "## Running tensors and pytorch objects on gpus\n",
        "\n",
        "GPU = faster computation on numbers"
      ],
      "metadata": {
        "id": "chZruJHf2YUD"
      }
    },
    {
      "cell_type": "markdown",
      "source": [
        "### Getting a GPU\n",
        "\n",
        "1. Free on Colab\n",
        "2. Buying\n",
        "3. Cloud computing"
      ],
      "metadata": {
        "id": "z9WlZYqN2nbG"
      }
    },
    {
      "cell_type": "code",
      "source": [
        "!nvidia-smi"
      ],
      "metadata": {
        "colab": {
          "base_uri": "https://localhost:8080/"
        },
        "id": "DDVcIi1n15uI",
        "outputId": "88f2f705-4d10-412f-fb1c-353a236bde98"
      },
      "execution_count": 49,
      "outputs": [
        {
          "output_type": "stream",
          "name": "stdout",
          "text": [
            "Wed Feb 14 23:39:41 2024       \n",
            "+---------------------------------------------------------------------------------------+\n",
            "| NVIDIA-SMI 535.104.05             Driver Version: 535.104.05   CUDA Version: 12.2     |\n",
            "|-----------------------------------------+----------------------+----------------------+\n",
            "| GPU  Name                 Persistence-M | Bus-Id        Disp.A | Volatile Uncorr. ECC |\n",
            "| Fan  Temp   Perf          Pwr:Usage/Cap |         Memory-Usage | GPU-Util  Compute M. |\n",
            "|                                         |                      |               MIG M. |\n",
            "|=========================================+======================+======================|\n",
            "|   0  Tesla T4                       Off | 00000000:00:04.0 Off |                    0 |\n",
            "| N/A   41C    P8               9W /  70W |      0MiB / 15360MiB |      0%      Default |\n",
            "|                                         |                      |                  N/A |\n",
            "+-----------------------------------------+----------------------+----------------------+\n",
            "                                                                                         \n",
            "+---------------------------------------------------------------------------------------+\n",
            "| Processes:                                                                            |\n",
            "|  GPU   GI   CI        PID   Type   Process name                            GPU Memory |\n",
            "|        ID   ID                                                             Usage      |\n",
            "|=======================================================================================|\n",
            "|  No running processes found                                                           |\n",
            "+---------------------------------------------------------------------------------------+\n"
          ]
        }
      ]
    },
    {
      "cell_type": "markdown",
      "source": [
        "### Checking for GPU access with PyTorch"
      ],
      "metadata": {
        "id": "Gyu841do34RR"
      }
    },
    {
      "cell_type": "code",
      "source": [
        "import torch\n",
        "torch.cuda.is_available()"
      ],
      "metadata": {
        "colab": {
          "base_uri": "https://localhost:8080/"
        },
        "id": "3R2V4sD63o0q",
        "outputId": "0bab4fe4-32cb-4dde-d517-bc89439f18ad"
      },
      "execution_count": 50,
      "outputs": [
        {
          "output_type": "execute_result",
          "data": {
            "text/plain": [
              "True"
            ]
          },
          "metadata": {},
          "execution_count": 50
        }
      ]
    },
    {
      "cell_type": "code",
      "source": [
        "# Setup device agnostic code\n",
        "device = \"cuda\" if torch.cuda.is_available() else \"cpu\"\n",
        "print(device)"
      ],
      "metadata": {
        "colab": {
          "base_uri": "https://localhost:8080/"
        },
        "id": "_Xv_drnL4FJk",
        "outputId": "3d3520e5-31cc-4596-ee85-eaa559f8aaef"
      },
      "execution_count": 51,
      "outputs": [
        {
          "output_type": "stream",
          "name": "stdout",
          "text": [
            "cuda\n"
          ]
        }
      ]
    },
    {
      "cell_type": "markdown",
      "source": [
        "### Putting tenfor tpu and other xla devices\n",
        "import torch\n",
        "\n",
        "t = torch.randn(2, 2, device=\"xla\")\n",
        "print(t.device)sors (and models) on the GPU\n",
        "Definitely for the faster computation provided"
      ],
      "metadata": {
        "id": "I9BEuWhP60Wj"
      }
    },
    {
      "cell_type": "code",
      "source": [
        "# Create a tensor (default on the CPU)\n",
        "tensor = torch.tensor([1, 2, 3])\n",
        "\n",
        "# Tensor not on GPU\n",
        "print(tensor, tensor.device)"
      ],
      "metadata": {
        "colab": {
          "base_uri": "https://localhost:8080/"
        },
        "id": "QCCoFfLp4_aS",
        "outputId": "8ee76311-4527-4a5e-e740-245934a2bc4a"
      },
      "execution_count": 52,
      "outputs": [
        {
          "output_type": "stream",
          "name": "stdout",
          "text": [
            "tensor([1, 2, 3]) cpu\n"
          ]
        }
      ]
    },
    {
      "cell_type": "code",
      "source": [
        "# Move tensor to GPU (if available)\n",
        "device = \"cuda\" if torch.cuda.is_available() else \"cpu\"\n",
        "tensor_on_gpu = tensor.to(device)\n",
        "tensor_on_gpu.device"
      ],
      "metadata": {
        "colab": {
          "base_uri": "https://localhost:8080/"
        },
        "id": "ssbiTVfE7X88",
        "outputId": "ebb1c745-6f5c-4969-a528-2b8d076b3613"
      },
      "execution_count": 53,
      "outputs": [
        {
          "output_type": "execute_result",
          "data": {
            "text/plain": [
              "device(type='cuda', index=0)"
            ]
          },
          "metadata": {},
          "execution_count": 53
        }
      ]
    },
    {
      "cell_type": "code",
      "source": [
        "# If tensor is on GPU cannot be converted to NumPy\n",
        "# So first return it to gpu\n",
        "tensor_on_cpu = tensor_on_gpu.to(\"cpu\")\n",
        "print(tensor_on_cpu.device)\n",
        "print(tensor_on_cpu.numpy())\n"
      ],
      "metadata": {
        "colab": {
          "base_uri": "https://localhost:8080/"
        },
        "id": "GmjYx8ZH9mIO",
        "outputId": "369b9c54-e7ab-4bd6-aef8-7f3a06d18eaf"
      },
      "execution_count": 54,
      "outputs": [
        {
          "output_type": "stream",
          "name": "stdout",
          "text": [
            "cpu\n",
            "[1 2 3]\n"
          ]
        }
      ]
    },
    {
      "cell_type": "code",
      "source": [
        "# Converting to numpy and back to torch in gpu in one stroke\n",
        "tensor_on_gpu = torch.from_numpy(tensor_on_gpu.to(\"cpu\").numpy()).to(\"cuda\")\n",
        "tensor_on_gpu.device"
      ],
      "metadata": {
        "colab": {
          "base_uri": "https://localhost:8080/"
        },
        "id": "2YlCJQf8-ner",
        "outputId": "c2430332-778b-4ce7-d786-3e7b72d81e76"
      },
      "execution_count": 55,
      "outputs": [
        {
          "output_type": "execute_result",
          "data": {
            "text/plain": [
              "device(type='cuda', index=0)"
            ]
          },
          "metadata": {},
          "execution_count": 55
        }
      ]
    }
  ]
}