{
 "cells": [
  {
   "cell_type": "markdown",
   "id": "0fa9feff-a86a-4602-b62f-00decf857c5d",
   "metadata": {},
   "source": [
    "# Currency Conversion with Matrix Multiplication\n",
    "\n",
    "Here I shall solve a currency problem using matrix multiplication and the python package [NumPy](https://www.numpy.org/). This demonstration is supposed to prepare me for using matrix multiplication to solve more complex problems.\n",
    "\n",
    "## Currency Conversion Problem\n",
    "\n",
    "Over the years you have traveled to eight different countries and just happen to have leftover local currency from each of your trips. You are planning to return to one of the eight countries, but you aren't sure which one just yet. You are waiting to find out which will have the cheapest airfare.\n",
    "\n",
    "In preparation for the trip you *will* want to convert *all* your local currency into the currency local of the place you will be travelling to. Therefore, to double check the bank's conversion of your currency, you want to compute the total amount of currency you would expect for each of the eight countries. To compute the conversion, you first need to import a matrix that contains the currency conversion rates for each of hte eight countries. The data we will use comes from the [Overview Matrix of Exchange Rates from Bloomberg Cross-Rates Overall Chart](https://www.bloomberg.com/markets/currencies/cross-rates) on January, 10 2018."
   ]
  },
  {
   "cell_type": "markdown",
   "id": "b41c4343-e598-44f6-b106-c78c9f10da54",
   "metadata": {},
   "source": [
    "I'm thinking of this problem as taking a _vector of **inputs**_ (the currencies form the 8 countries) and applying a _matrix of **weights**_ (the conversion rates matrix) to these inputs to produce a _vector of **outputs**_ (total amount of currency for each country) using matrix multiplication with the NumPy package."
   ]
  },
  {
   "cell_type": "markdown",
   "id": "59421f88-b60e-45b5-ba47-61956ef48dc4",
   "metadata": {},
   "source": [
    "## Coding the Currency Conversion Problem\n",
    "\n",
    "First, I will need to create the _**inputs**_ vector that holds the currency I have from the eight countries into a numpy vector (array). To begin, I'm first gonna import the NumPy package and then use the package to create a vector from a list. Next I convert the vector into a pandas dataframe so that it will print out nicely below with column laels to indicate the country the currecy amount is associated with."
   ]
  },
  {
   "cell_type": "code",
   "execution_count": 1,
   "id": "902aefb5-7ffe-419b-a836-162a4bb525f1",
   "metadata": {},
   "outputs": [
    {
     "name": "stdout",
     "output_type": "stream",
     "text": [
      "Inputs Vector:\n"
     ]
    },
    {
     "data": {
      "text/html": [
       "<div>\n",
       "<style scoped>\n",
       "    .dataframe tbody tr th:only-of-type {\n",
       "        vertical-align: middle;\n",
       "    }\n",
       "\n",
       "    .dataframe tbody tr th {\n",
       "        vertical-align: top;\n",
       "    }\n",
       "\n",
       "    .dataframe thead th {\n",
       "        text-align: right;\n",
       "    }\n",
       "</style>\n",
       "<table border=\"1\" class=\"dataframe\">\n",
       "  <thead>\n",
       "    <tr style=\"text-align: right;\">\n",
       "      <th></th>\n",
       "      <th>USD</th>\n",
       "      <th>EUR</th>\n",
       "      <th>JPY</th>\n",
       "      <th>GBP</th>\n",
       "      <th>CHF</th>\n",
       "      <th>CAD</th>\n",
       "      <th>AUD</th>\n",
       "      <th>HKD</th>\n",
       "    </tr>\n",
       "  </thead>\n",
       "  <tbody>\n",
       "    <tr>\n",
       "      <th>Amounts</th>\n",
       "      <td>70</td>\n",
       "      <td>100</td>\n",
       "      <td>20</td>\n",
       "      <td>80</td>\n",
       "      <td>40</td>\n",
       "      <td>70</td>\n",
       "      <td>60</td>\n",
       "      <td>100</td>\n",
       "    </tr>\n",
       "  </tbody>\n",
       "</table>\n",
       "</div>"
      ],
      "text/plain": [
       "         USD  EUR  JPY  GBP  CHF  CAD  AUD  HKD\n",
       "Amounts   70  100   20   80   40   70   60  100"
      ]
     },
     "execution_count": 1,
     "metadata": {},
     "output_type": "execute_result"
    }
   ],
   "source": [
    "# Importing numpy and pandas\n",
    "import numpy as np\n",
    "import pandas as pd\n",
    "\n",
    "# Creating money input vector.\n",
    "money = np.asarray([70, 100, 20, 80, 40, 70, 60, 100])\n",
    "\n",
    "# Creating pandas dataframe with column lables (currency label) from the money vector for printing\n",
    "currency_label = [\"USD\", \"EUR\", \"JPY\", \"GBP\", \"CHF\", \"CAD\", \"AUD\", \"HKD\"]\n",
    "money_df = pd.DataFrame(data=money, index=currency_label, columns=[\"Amounts\"])\n",
    "print(\"Inputs Vector:\")\n",
    "money_df.T"
   ]
  },
  {
   "cell_type": "markdown",
   "id": "3788b282-e136-474c-b974-5c30af456182",
   "metadata": {},
   "source": [
    "Next Imma create the *__weights__ matrix* by importing the currency conversion rates matrix. I will use [Pandas](https://pandas.pydata.org/) to quickly read in the matrix and appropriately assign row and column labels. Additionally, ll define a variable *__path__* to define the location of the urrency conversion matrix. The code below imports this weights matrix, converts the dataframe into a numpy"
   ]
  }
 ],
 "metadata": {
  "kernelspec": {
   "display_name": "Python 3 (ipykernel)",
   "language": "python",
   "name": "python3"
  },
  "language_info": {
   "codemirror_mode": {
    "name": "ipython",
    "version": 3
   },
   "file_extension": ".py",
   "mimetype": "text/x-python",
   "name": "python",
   "nbconvert_exporter": "python",
   "pygments_lexer": "ipython3",
   "version": "3.10.13"
  }
 },
 "nbformat": 4,
 "nbformat_minor": 5
}
