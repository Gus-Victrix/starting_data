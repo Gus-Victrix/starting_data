{
 "cells": [
  {
   "cell_type": "markdown",
   "id": "19c5b07f-9957-4731-a11d-1608450869b6",
   "metadata": {},
   "source": [
    "# Vectors Lab\n",
    "\n",
    "In this notebook, I am learning how to graph two dimensional (2D) vectors and certain vector computations.\n",
    "\n",
    "Specifically:\n",
    "1. Plotting a 2D vector\n",
    "2. Multiplying a 2D vector by a scalar and plotting the results\n",
    "3. Adding two 2D vectors together and plotting the results\n",
    "\n",
    "For this lab, I am using the python package [NumPy](http://www.numpy.org/) for creating vectors and computing vector operations. For the graphing aspects of the lab, I will be using python package [Matplotlib](https://matplotlib.org/index.html)."
   ]
  },
  {
   "cell_type": "markdown",
   "id": "e9c26b2e-5cd3-4e7e-8097-0926b1c8edbb",
   "metadata": {},
   "source": [
    "## Plotting a vector in 2D\n",
    "For this part of the lab, I shall plot the vector $\\vec{v}$ defined below.\n",
    "\n",
    "$\\hspace{1cm}\\vec{v} = \\begin{bmatrix} 1\\\\ 1\\end{bmatrix}$\n",
    "\n",
    "Below is an outline that describes what is included in the Python code to plot vector $\\vec{v}$.\n",
    "1. Make both NumPy and Matplotlib packages available using import method.\n",
    "&nbsp;\n",
    "2. Define vector $\\vec{v}$\n",
    "3. Plot vector $\\vec{v}$\n",
    "   1. Create a variable *__ax__* to reference the axis of the plot.\n",
    "   2. Plot the origin as a red dot using *__plt.plot()__* method.\n",
    "   3. Plot vector $\\vec{v}$ as a blue arrow with origin at 0,0 using *__ax.arrow()__* method.\n",
    "   4. Format x-axis\n",
    "      1. Set limits using *__ax.xlim()__* method.\n",
    "      2. Set major tick marks using *__ax.set_xticks()__* method.\n",
    "    5. Format y-axis:\n",
    "       1. Set limits using *__ax.ylim()__* method.\n",
    "       2. Set major tick marks using *__ax.set_yticks()__* method.\n",
    "    6. Create the gridlines using *__plt.grid()__* method.\n",
    "    8. Display the plot using *__plt.show()__* method."
   ]
  },
  {
   "cell_type": "code",
   "execution_count": 13,
   "id": "aefdca3a-0458-4dc9-8e29-7a3474234880",
   "metadata": {},
   "outputs": [
    {
     "name": "stdout",
     "output_type": "stream",
     "text": [
      "Requirement already satisfied: pip in /usr/local/python/3.10.13/lib/python3.10/site-packages (23.3.1)\n",
      "Collecting pip\n",
      "  Downloading pip-23.3.2-py3-none-any.whl.metadata (3.5 kB)\n",
      "Downloading pip-23.3.2-py3-none-any.whl (2.1 MB)\n",
      "\u001b[2K   \u001b[90m━━━━━━━━━━━━━━━━━━━━━━━━━━━━━━━━━━━━━━━━\u001b[0m \u001b[32m2.1/2.1 MB\u001b[0m \u001b[31m25.4 MB/s\u001b[0m eta \u001b[36m0:00:00\u001b[0m:00:01\u001b[0m\n",
      "\u001b[?25hInstalling collected packages: pip\n",
      "  Attempting uninstall: pip\n",
      "    Found existing installation: pip 23.3.1\n",
      "    Uninstalling pip-23.3.1:\n",
      "      Successfully uninstalled pip-23.3.1\n",
      "\u001b[33m  WARNING: The scripts pip, pip3 and pip3.10 are installed in '/usr/local/python/3.10.13/bin' which is not on PATH.\n",
      "  Consider adding this directory to PATH or, if you prefer to suppress this warning, use --no-warn-script-location.\u001b[0m\u001b[33m\n",
      "\u001b[0mSuccessfully installed pip-23.3.2\n",
      "Reading package lists... Done\n",
      "Building dependency tree       \n",
      "Reading state information... Done\n",
      "python3 is already the newest version (3.8.2-0ubuntu2).\n",
      "Calculating upgrade... Done\n",
      "0 upgraded, 0 newly installed, 0 to remove and 0 not upgraded.\n",
      "Requirement already satisfied: matplotlib in /home/codespace/.local/lib/python3.10/site-packages (3.8.2)\n",
      "Requirement already satisfied: numpy in /home/codespace/.local/lib/python3.10/site-packages (1.26.2)\n",
      "Requirement already satisfied: contourpy>=1.0.1 in /home/codespace/.local/lib/python3.10/site-packages (from matplotlib) (1.2.0)\n",
      "Requirement already satisfied: cycler>=0.10 in /home/codespace/.local/lib/python3.10/site-packages (from matplotlib) (0.12.1)\n",
      "Requirement already satisfied: fonttools>=4.22.0 in /home/codespace/.local/lib/python3.10/site-packages (from matplotlib) (4.46.0)\n",
      "Requirement already satisfied: kiwisolver>=1.3.1 in /home/codespace/.local/lib/python3.10/site-packages (from matplotlib) (1.4.5)\n",
      "Requirement already satisfied: packaging>=20.0 in /home/codespace/.local/lib/python3.10/site-packages (from matplotlib) (23.2)\n",
      "Requirement already satisfied: pillow>=8 in /home/codespace/.local/lib/python3.10/site-packages (from matplotlib) (10.1.0)\n",
      "Requirement already satisfied: pyparsing>=2.3.1 in /home/codespace/.local/lib/python3.10/site-packages (from matplotlib) (3.1.1)\n",
      "Requirement already satisfied: python-dateutil>=2.7 in /home/codespace/.local/lib/python3.10/site-packages (from matplotlib) (2.8.2)\n",
      "Requirement already satisfied: six>=1.5 in /home/codespace/.local/lib/python3.10/site-packages (from python-dateutil>=2.7->matplotlib) (1.16.0)\n"
     ]
    }
   ],
   "source": [
    "# Setting the matplotlib backend engine to inline\n",
    "!python -m pip install --upgrade pip\n",
    "!sudo apt upgrade python3\n",
    "!pip install --upgrade matplotlib numpy\n",
    "%matplotlib inline\n",
    "# importing required modules\n",
    "import numpy as np\n",
    "from matplotlib import pyplot as plt"
   ]
  },
  {
   "cell_type": "code",
   "execution_count": 35,
   "id": "316821bb-55ec-4d47-9fae-8acf941a6325",
   "metadata": {},
   "outputs": [
    {
     "data": {
      "image/png": "[encoded data removed]",
      "text/plain": [
       "<Figure size 640x480 with 1 Axes>"
      ]
     },
     "metadata": {},
     "output_type": "display_data"
    }
   ],
   "source": [
    "# Declaring the vector v\n",
    "v = np.array([1, 1])\n",
    "\n",
    "# Creating axis object\n",
    "ax = plt.axes()\n",
    "\n",
    "# Plotting origin\n",
    "ax.plot(0, 0, 'or')\n",
    "# Plotting vector v\n",
    "ax.arrow(0, 0, *v, color='b', linewidth=2.0, head_width=0.2, head_length=0.25)\n",
    "\n",
    "# Formatting x axis\n",
    "plt.xlim(-2, 2)\n",
    "major_xticks = np.arange(-2, 2)\n",
    "ax.set_xticks(major_xticks)\n",
    "\n",
    "# Formatting y axis\n",
    "plt.ylim(-2, 2)\n",
    "major_yticks = np.arange(-2, 2)\n",
    "ax.set_yticks(major_yticks)\n",
    "\n",
    "# Showing gridlines\n",
    "plt.grid(which='major')\n",
    "# Displaying results\n",
    "plt.show()"
   ]
  }
 ],
 "metadata": {
  "kernelspec": {
   "display_name": "Python 3 (ipykernel)",
   "language": "python",
   "name": "python3"
  },
  "language_info": {
   "codemirror_mode": {
    "name": "ipython",
    "version": 3
   },
   "file_extension": ".py",
   "mimetype": "text/x-python",
   "name": "python",
   "nbconvert_exporter": "python",
   "pygments_lexer": "ipython3",
   "version": "3.10.13"
  }
 },
 "nbformat": 4,
 "nbformat_minor": 5
}
