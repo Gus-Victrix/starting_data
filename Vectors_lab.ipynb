{
 "cells": [
  {
   "cell_type": "markdown",
   "id": "19c5b07f-9957-4731-a11d-1608450869b6",
   "metadata": {},
   "source": [
    "# Vectors Lab\n",
    "\n",
    "In this notebook, I am learning how to graph two dimensional (2D) vectors and certain vector computations.\n",
    "\n",
    "Specifically:\n",
    "1. Plotting a 2D vector\n",
    "2. Multiplying a 2D vector by a scalar and plotting the results\n",
    "3. Adding two 2D vectors together and plotting the results\n",
    "\n",
    "For this lab, I am using the python package [NumPy](http://www.numpy.org/) for creating vectors and computing vector operations. For the graphing aspects of the lab, I will be using python package [Matplotlib](https://matplotlib.org/index.html)."
   ]
  },
  {
   "cell_type": "markdown",
   "id": "e9c26b2e-5cd3-4e7e-8097-0926b1c8edbb",
   "metadata": {},
   "source": [
    "## Plotting a vector in 2D\n",
    "For this part of the lab, I shall plot the vector $\\vec{v}$ defined below.\n",
    "\n",
    "$\\hspace{1cm}\\vec{v} = \\begin{bmatrix} 1\\\\ 1\\end{bmatrix}$\n",
    "\n",
    "Below is an outline that describes what is included in the Python code to plot vector $\\vec{v}$.\n",
    "1. Make both NumPy and Matplotlib packages available using import method.\n",
    "&nbsp;\n",
    "2. Define vector $\\vec{v}$\n",
    "3. Plot vector $\\vec{v}$\n",
    "   1. Create a variable *__ax__* to reference the axis of the plot.\n",
    "   2. Plot the origin as a red dot using *__plt.plot()__* method.\n",
    "   3. Plot vector $\\vec{v}$ as a blue arrow with origin at 0,0 using *__ax.arrow()__* method.\n",
    "   4. Format x-axis\n",
    "      1. Set limits using *__ax.xlim()__* method.\n",
    "      2. Set major tick marks using *__ax.set_xticks()__* method.\n",
    "    5. Format y-axis:\n",
    "       1. Set limits using *__ax.ylim()__* method.\n",
    "       2. Set major tick marks using *__ax.set_yticks()__* method.\n",
    "    6. Create the gridlines using *__plt.grid()__* method.\n",
    "    8. Display the plot using *__plt.show()__* method."
   ]
  },
  {
   "cell_type": "code",
   "execution_count": 36,
   "id": "aefdca3a-0458-4dc9-8e29-7a3474234880",
   "metadata": {},
   "outputs": [],
   "source": [
    "# Setting the matplotlib backend engine to inline\n",
    "%matplotlib inline\n",
    "# importing required modules\n",
    "import numpy as np\n",
    "from matplotlib import pyplot as plt"
   ]
  },
  {
   "cell_type": "code",
   "execution_count": 35,
   "id": "316821bb-55ec-4d47-9fae-8acf941a6325",
   "metadata": {},
   "outputs": [
    {
     "data": {
      "image/png": "[encoded data removed]",
      "text/plain": [
       "<Figure size 640x480 with 1 Axes>"
      ]
     },
     "metadata": {},
     "output_type": "display_data"
    }
   ],
   "source": [
    "# Declaring the vector v\n",
    "v = np.array([1, 1])\n",
    "\n",
    "# Creating axis object\n",
    "ax = plt.axes()\n",
    "\n",
    "# Plotting origin\n",
    "ax.plot(0, 0, 'or')\n",
    "# Plotting vector v\n",
    "ax.arrow(0, 0, *v, color='b', linewidth=2.0, head_width=0.2, head_length=0.25)\n",
    "\n",
    "# Formatting x axis\n",
    "plt.xlim(-2, 2)\n",
    "major_xticks = np.arange(-2, 2)\n",
    "ax.set_xticks(major_xticks)\n",
    "\n",
    "# Formatting y axis\n",
    "plt.ylim(-2, 2)\n",
    "major_yticks = np.arange(-2, 2)\n",
    "ax.set_yticks(major_yticks)\n",
    "\n",
    "# Showing gridlines\n",
    "plt.grid(which='major')\n",
    "# Displaying results\n",
    "plt.show()"
   ]
  },
  {
   "cell_type": "markdown",
   "id": "fa9ede77-6ecb-4fd9-8f62-00d5d7aaf5e7",
   "metadata": {},
   "source": [
    "## Scaling a vector using a Scalar\n",
    "\n",
    "For this part of the lab, I shall plot the results of scaling vector $\\vec{v}$ by the scalar $a$. Both scalar $a$ and vector $\\vec{v}$ have been defined below.\n",
    "\n",
    "$\\hspace{1cm}a = 3 $\n",
    "\n",
    "\n",
    "$\\hspace{1cm}\\vec{v} = \\begin{bmatrix} 1\\\\ 1\\end{bmatrix}$\n",
    "\n",
    "### Task:\n",
    "Create vector $\\vec{av}$ and then plot it along with vector $\\vec{v}$ but it should be dotted and cyan in color.\n",
    "\n",
    "1. Multiply vector $\\vec{v}$ by scalar $a$ below.\n",
    "2. Use the *__ax.arrow(...)__* statement in the code to add vector $\\vec{av}$ to the plot with features: *__linestyle = 'dotted' and color = 'c'__*"
   ]
  },
  {
   "cell_type": "code",
   "execution_count": 44,
   "id": "3dfce8eb-1f2f-46d5-9a07-650cbcc38235",
   "metadata": {},
   "outputs": [
    {
     "data": {
      "image/png": "[encoded data removed]",
      "text/plain": [
       "<Figure size 640x480 with 1 Axes>"
      ]
     },
     "metadata": {},
     "output_type": "display_data"
    }
   ],
   "source": [
    "# Defining scalar a\n",
    "a = 3\n",
    "\n",
    "# Defining vector av\n",
    "av = v * a\n",
    "\n",
    "# Creating new axes object ax\n",
    "ax = plt.axes()\n",
    "# Plotting the origin\n",
    "ax.plot(0, 0, 'or')\n",
    "\n",
    "# Plotting v\n",
    "ax.arrow(0, 0, *v, color='b', linewidth=2.5, head_width=0.30, head_length=0.35)\n",
    "# Plotting av\n",
    "ax.arrow(0, 0, *av, color='c', linewidth=2.5, head_width=0.30, head_length=0.35, ls='dotted')\n",
    "\n",
    "# Formatting the x-axis\n",
    "plt.xlim(-2, 4)\n",
    "major_xticks = np.arange(-1, 4)\n",
    "ax.set_xticks(major_xticks)\n",
    "\n",
    "# Formatting the y-axis\n",
    "plt.ylim(-2, 4)\n",
    "major_yticks = np.arange(-1, 4)\n",
    "ax.set_yticks(major_yticks)\n",
    "\n",
    "# Adding gridlines\n",
    "ax.grid(which='major')\n",
    "\n",
    "# Display results\n",
    "plt.show()"
   ]
  }
 ],
 "metadata": {
  "kernelspec": {
   "display_name": "Python 3 (ipykernel)",
   "language": "python",
   "name": "python3"
  },
  "language_info": {
   "codemirror_mode": {
    "name": "ipython",
    "version": 3
   },
   "file_extension": ".py",
   "mimetype": "text/x-python",
   "name": "python",
   "nbconvert_exporter": "python",
   "pygments_lexer": "ipython3",
   "version": "3.10.13"
  }
 },
 "nbformat": 4,
 "nbformat_minor": 5
}
